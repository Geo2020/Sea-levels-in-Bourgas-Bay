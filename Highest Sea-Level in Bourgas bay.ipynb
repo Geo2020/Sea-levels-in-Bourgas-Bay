{
 "cells": [
  {
   "cell_type": "code",
   "execution_count": 1,
   "metadata": {},
   "outputs": [],
   "source": [
    "%matplotlib inline"
   ]
  },
  {
   "cell_type": "code",
   "execution_count": 2,
   "metadata": {},
   "outputs": [],
   "source": [
    "import numpy as np\n",
    "import pandas as pd\n",
    "import matplotlib.pyplot as plt\n",
    "import scipy.stats as st\n",
    "import sys"
   ]
  },
  {
   "cell_type": "markdown",
   "metadata": {},
   "source": [
    "## Highest Sea-Level Fluctuations in Bourgas bay\n",
    "### (Statistical analysis using the Fréchet distribution)"
   ]
  },
  {
   "cell_type": "markdown",
   "metadata": {},
   "source": [
    "### Abstract"
   ]
  },
  {
   "cell_type": "markdown",
   "metadata": {},
   "source": [
    "Analysis of the highest (extreme) sea-level fluctuations is important for coast protection as well as for the design of the water-edge infrastructure. The Black Sea water levels change due to meteorological factors and wind setup. Maximum reported sea levels along the Bulgarian Black Sea coast are reported to happen under dominating North-East wind [1].\n",
    "The genesis and nature of the sea surface fluctuations at the Bulgarian Black Sea coastal waters is the subject of a number of studies conducted by the Institute of Oceanology, Varna at the Bulgarian Academy of Science (IO-BAS).\n",
    "\n",
    "Under the combined influence of various factors (tidal, hydrographical, and atmospheric) and their influence on the sea surface, a complex system of oscillating water movements is formed. It has been reported that the main variations at sea level in Bourgas Bay are due to the drift and tidal phenomena, baric (large periodic) processes (type *seiche*), and surf oscillations. The researches are based on data from long-term measurements of the sea levels by tide gauge stations [2]. The input data presented here are from the archives of IO-BAS.\n",
    "\n",
    "The purpose of the present work is to analyse the highest sea-level variations in Bourgas bay using an appropriate probability distribution."
   ]
  },
  {
   "cell_type": "markdown",
   "metadata": {},
   "source": [
    "##### Notation\n",
    "###### Main input parameters and coefficients:\n",
    "bins_min (110) ; bins_max (165.0) ; bins_count (10) ; bins_interval (5.5) ; x_bin (np.array)\n",
    "\n",
    "a_coeff ; k_coeff\n",
    "\n",
    "###### Tables:\n",
    "*inp_data* ; *groups*  ; *frechet_tab* ; *calculated* ; *t_r_tab* ; *our_results_edited* ; *cum_freq_results_edited* ; \n",
    "*comparison_io*\n",
    "\n",
    "###### Figures:\n",
    "*Highest Sea-level distribution*\n",
    "\n",
    "*Occurrences and Cumulative*\n",
    "\n",
    "*Fréchet (FT-II) c.d.f.*\n",
    "\n",
    "*Fréchet (FT-II) p.d.f.*\n",
    "\n",
    "*y = f(x)*\n",
    "\n",
    "*p.d.f. (Fréchet distribution)*\n",
    "\n",
    "*Calculated c.d.f. (Fréchet distribution)*\n",
    "\n",
    "*c.d.f. with its confidence limits*\n",
    "\n",
    "*Calculated vs. Ranked c.d.f.*\n",
    "\n",
    "*Return period Tr, [y.] with its confidence limits*\n",
    "\n",
    "*Sea Levels vs. Return period*\n",
    "\n",
    "*\"CumFreq\" c.d.f.*\n",
    "\n",
    "*\"CumFreq\" Return period*\n",
    "\n",
    "*Return period vs. Highest Sea Levels*\n",
    "\n",
    "*Sea-level Elevations vs. Return period (comparison with IO-BAS)*"
   ]
  },
  {
   "cell_type": "markdown",
   "metadata": {},
   "source": [
    "### Pre-processing"
   ]
  },
  {
   "cell_type": "markdown",
   "metadata": {},
   "source": [
    "The input data are provided in a *.CSV file that contains the annual highest sea levels registered in Bourgas Bay for the period of 52 years (from 1928 to 1980). They are recorded on the monthly basis, from which the maximum annual values are found."
   ]
  },
  {
   "cell_type": "code",
   "execution_count": 3,
   "metadata": {},
   "outputs": [
    {
     "data": {
      "text/html": [
       "<div>\n",
       "<style scoped>\n",
       "    .dataframe tbody tr th:only-of-type {\n",
       "        vertical-align: middle;\n",
       "    }\n",
       "\n",
       "    .dataframe tbody tr th {\n",
       "        vertical-align: top;\n",
       "    }\n",
       "\n",
       "    .dataframe thead th {\n",
       "        text-align: right;\n",
       "    }\n",
       "</style>\n",
       "<table border=\"1\" class=\"dataframe\">\n",
       "  <thead>\n",
       "    <tr style=\"text-align: right;\">\n",
       "      <th></th>\n",
       "      <th>year</th>\n",
       "      <th>I</th>\n",
       "      <th>II</th>\n",
       "      <th>III</th>\n",
       "      <th>IV</th>\n",
       "      <th>V</th>\n",
       "      <th>VI</th>\n",
       "      <th>VII</th>\n",
       "      <th>VIII</th>\n",
       "      <th>IX</th>\n",
       "      <th>X</th>\n",
       "      <th>XI</th>\n",
       "      <th>XII</th>\n",
       "      <th>annually</th>\n",
       "    </tr>\n",
       "  </thead>\n",
       "  <tbody>\n",
       "    <tr>\n",
       "      <th>0</th>\n",
       "      <td>1928</td>\n",
       "      <td>-</td>\n",
       "      <td>-</td>\n",
       "      <td>-</td>\n",
       "      <td>-</td>\n",
       "      <td>-</td>\n",
       "      <td>-</td>\n",
       "      <td>-</td>\n",
       "      <td>-</td>\n",
       "      <td>-</td>\n",
       "      <td>78.9</td>\n",
       "      <td>105</td>\n",
       "      <td>116</td>\n",
       "      <td>116</td>\n",
       "    </tr>\n",
       "    <tr>\n",
       "      <th>1</th>\n",
       "      <td>1929</td>\n",
       "      <td>125</td>\n",
       "      <td>111</td>\n",
       "      <td>117</td>\n",
       "      <td>110.8</td>\n",
       "      <td>111.7</td>\n",
       "      <td>113</td>\n",
       "      <td>109</td>\n",
       "      <td>126.5</td>\n",
       "      <td>105</td>\n",
       "      <td>120</td>\n",
       "      <td>96.1</td>\n",
       "      <td>137.5</td>\n",
       "      <td>137.5</td>\n",
       "    </tr>\n",
       "    <tr>\n",
       "      <th>2</th>\n",
       "      <td>1930</td>\n",
       "      <td>93.4</td>\n",
       "      <td>102</td>\n",
       "      <td>87.5</td>\n",
       "      <td>101.2</td>\n",
       "      <td>104.1</td>\n",
       "      <td>118</td>\n",
       "      <td>122.1</td>\n",
       "      <td>96.9</td>\n",
       "      <td>105.6</td>\n",
       "      <td>101</td>\n",
       "      <td>101</td>\n",
       "      <td>119.2</td>\n",
       "      <td>122.1</td>\n",
       "    </tr>\n",
       "    <tr>\n",
       "      <th>3</th>\n",
       "      <td>1931</td>\n",
       "      <td>111</td>\n",
       "      <td>121.9</td>\n",
       "      <td>117.3</td>\n",
       "      <td>117</td>\n",
       "      <td>118.2</td>\n",
       "      <td>123.7</td>\n",
       "      <td>126</td>\n",
       "      <td>117.5</td>\n",
       "      <td>125.2</td>\n",
       "      <td>116</td>\n",
       "      <td>147</td>\n",
       "      <td>118.2</td>\n",
       "      <td>147</td>\n",
       "    </tr>\n",
       "    <tr>\n",
       "      <th>4</th>\n",
       "      <td>1932</td>\n",
       "      <td>115.4</td>\n",
       "      <td>111.5</td>\n",
       "      <td>112.9</td>\n",
       "      <td>107.4</td>\n",
       "      <td>117.7</td>\n",
       "      <td>143.4</td>\n",
       "      <td>110.2</td>\n",
       "      <td>110</td>\n",
       "      <td>106</td>\n",
       "      <td>95.8</td>\n",
       "      <td>116.7</td>\n",
       "      <td>95.4</td>\n",
       "      <td>143.4</td>\n",
       "    </tr>\n",
       "    <tr>\n",
       "      <th>5</th>\n",
       "      <td>1933</td>\n",
       "      <td>89.9</td>\n",
       "      <td>100.3</td>\n",
       "      <td>98.3</td>\n",
       "      <td>118</td>\n",
       "      <td>106.8</td>\n",
       "      <td>126.2</td>\n",
       "      <td>116</td>\n",
       "      <td>116.8</td>\n",
       "      <td>110.6</td>\n",
       "      <td>107.3</td>\n",
       "      <td>141</td>\n",
       "      <td>131.3</td>\n",
       "      <td>141</td>\n",
       "    </tr>\n",
       "    <tr>\n",
       "      <th>6</th>\n",
       "      <td>1934</td>\n",
       "      <td>141.5</td>\n",
       "      <td>105.5</td>\n",
       "      <td>-</td>\n",
       "      <td>-</td>\n",
       "      <td>-</td>\n",
       "      <td>-</td>\n",
       "      <td>-</td>\n",
       "      <td>99.5</td>\n",
       "      <td>100.8</td>\n",
       "      <td>101.7</td>\n",
       "      <td>91</td>\n",
       "      <td>101.4</td>\n",
       "      <td>141.5</td>\n",
       "    </tr>\n",
       "    <tr>\n",
       "      <th>7</th>\n",
       "      <td>1935</td>\n",
       "      <td>118.8</td>\n",
       "      <td>98</td>\n",
       "      <td>114.1</td>\n",
       "      <td>94</td>\n",
       "      <td>114.4</td>\n",
       "      <td>114.5</td>\n",
       "      <td>108.4</td>\n",
       "      <td>96</td>\n",
       "      <td>94.2</td>\n",
       "      <td>99.4</td>\n",
       "      <td>116.5</td>\n",
       "      <td>118.3</td>\n",
       "      <td>118.8</td>\n",
       "    </tr>\n",
       "    <tr>\n",
       "      <th>8</th>\n",
       "      <td>1936</td>\n",
       "      <td>104.3</td>\n",
       "      <td>152</td>\n",
       "      <td>128.6</td>\n",
       "      <td>123.1</td>\n",
       "      <td>131.3</td>\n",
       "      <td>115.8</td>\n",
       "      <td>124</td>\n",
       "      <td>120.5</td>\n",
       "      <td>94.5</td>\n",
       "      <td>105.3</td>\n",
       "      <td>114</td>\n",
       "      <td>113.3</td>\n",
       "      <td>152</td>\n",
       "    </tr>\n",
       "    <tr>\n",
       "      <th>9</th>\n",
       "      <td>1937</td>\n",
       "      <td>123.4</td>\n",
       "      <td>117.3</td>\n",
       "      <td>135.2</td>\n",
       "      <td>135.6</td>\n",
       "      <td>124.9</td>\n",
       "      <td>121.1</td>\n",
       "      <td>125.9</td>\n",
       "      <td>111.3</td>\n",
       "      <td>108.2</td>\n",
       "      <td>129.1</td>\n",
       "      <td>124</td>\n",
       "      <td>133</td>\n",
       "      <td>135.6</td>\n",
       "    </tr>\n",
       "    <tr>\n",
       "      <th>10</th>\n",
       "      <td>1938</td>\n",
       "      <td>131.4</td>\n",
       "      <td>118.4</td>\n",
       "      <td>122</td>\n",
       "      <td>118</td>\n",
       "      <td>117.5</td>\n",
       "      <td>114.7</td>\n",
       "      <td>116.2</td>\n",
       "      <td>114.1</td>\n",
       "      <td>117.1</td>\n",
       "      <td>133</td>\n",
       "      <td>102.6</td>\n",
       "      <td>110.9</td>\n",
       "      <td>133</td>\n",
       "    </tr>\n",
       "    <tr>\n",
       "      <th>11</th>\n",
       "      <td>1939</td>\n",
       "      <td>117</td>\n",
       "      <td>114.5</td>\n",
       "      <td>124.2</td>\n",
       "      <td>110.8</td>\n",
       "      <td>113.9</td>\n",
       "      <td>124.9</td>\n",
       "      <td>106.3</td>\n",
       "      <td>129.5</td>\n",
       "      <td>114.8</td>\n",
       "      <td>116.3</td>\n",
       "      <td>119.7</td>\n",
       "      <td>132.2</td>\n",
       "      <td>132.2</td>\n",
       "    </tr>\n",
       "    <tr>\n",
       "      <th>12</th>\n",
       "      <td>1940</td>\n",
       "      <td>129.3</td>\n",
       "      <td>119</td>\n",
       "      <td>128.3</td>\n",
       "      <td>141.5</td>\n",
       "      <td>135</td>\n",
       "      <td>136.1</td>\n",
       "      <td>136.1</td>\n",
       "      <td>126</td>\n",
       "      <td>139.4</td>\n",
       "      <td>119.2</td>\n",
       "      <td>126</td>\n",
       "      <td>139.2</td>\n",
       "      <td>141.5</td>\n",
       "    </tr>\n",
       "    <tr>\n",
       "      <th>13</th>\n",
       "      <td>1941</td>\n",
       "      <td>134</td>\n",
       "      <td>125</td>\n",
       "      <td>125.5</td>\n",
       "      <td>126.5</td>\n",
       "      <td>149.5</td>\n",
       "      <td>134</td>\n",
       "      <td>154.5</td>\n",
       "      <td>136</td>\n",
       "      <td>126.2</td>\n",
       "      <td>127</td>\n",
       "      <td>153.6</td>\n",
       "      <td>135.4</td>\n",
       "      <td>154.5</td>\n",
       "    </tr>\n",
       "    <tr>\n",
       "      <th>14</th>\n",
       "      <td>1942</td>\n",
       "      <td>126.4</td>\n",
       "      <td>117.6</td>\n",
       "      <td>131.6</td>\n",
       "      <td>119.3</td>\n",
       "      <td>124.2</td>\n",
       "      <td>139.9</td>\n",
       "      <td>125.6</td>\n",
       "      <td>121.3</td>\n",
       "      <td>125</td>\n",
       "      <td>110.7</td>\n",
       "      <td>131.4</td>\n",
       "      <td>109.9</td>\n",
       "      <td>139.9</td>\n",
       "    </tr>\n",
       "    <tr>\n",
       "      <th>15</th>\n",
       "      <td>1943</td>\n",
       "      <td>125.5</td>\n",
       "      <td>106.4</td>\n",
       "      <td>101.6</td>\n",
       "      <td>108.1</td>\n",
       "      <td>109.8</td>\n",
       "      <td>110.9</td>\n",
       "      <td>104.5</td>\n",
       "      <td>102.8</td>\n",
       "      <td>111</td>\n",
       "      <td>125.7</td>\n",
       "      <td>99</td>\n",
       "      <td>121.6</td>\n",
       "      <td>125.7</td>\n",
       "    </tr>\n",
       "    <tr>\n",
       "      <th>16</th>\n",
       "      <td>1944</td>\n",
       "      <td>117.7</td>\n",
       "      <td>117.2</td>\n",
       "      <td>137.8</td>\n",
       "      <td>137.6</td>\n",
       "      <td>124.2</td>\n",
       "      <td>-</td>\n",
       "      <td>120.6</td>\n",
       "      <td>135</td>\n",
       "      <td>103.8</td>\n",
       "      <td>127.2</td>\n",
       "      <td>126.6</td>\n",
       "      <td>141.9</td>\n",
       "      <td>141.9</td>\n",
       "    </tr>\n",
       "    <tr>\n",
       "      <th>17</th>\n",
       "      <td>1945</td>\n",
       "      <td>125</td>\n",
       "      <td>124.2</td>\n",
       "      <td>119</td>\n",
       "      <td>111.1</td>\n",
       "      <td>121.9</td>\n",
       "      <td>116.1</td>\n",
       "      <td>109.1</td>\n",
       "      <td>111.6</td>\n",
       "      <td>119.4</td>\n",
       "      <td>93.4</td>\n",
       "      <td>128.4</td>\n",
       "      <td>126.2</td>\n",
       "      <td>128.4</td>\n",
       "    </tr>\n",
       "    <tr>\n",
       "      <th>18</th>\n",
       "      <td>1946</td>\n",
       "      <td>129.4</td>\n",
       "      <td>101.6</td>\n",
       "      <td>146.2</td>\n",
       "      <td>113.3</td>\n",
       "      <td>121.2</td>\n",
       "      <td>121</td>\n",
       "      <td>117.3</td>\n",
       "      <td>114.9</td>\n",
       "      <td>104.3</td>\n",
       "      <td>99.2</td>\n",
       "      <td>106.6</td>\n",
       "      <td>146</td>\n",
       "      <td>146</td>\n",
       "    </tr>\n",
       "    <tr>\n",
       "      <th>19</th>\n",
       "      <td>1947</td>\n",
       "      <td>119</td>\n",
       "      <td>108.1</td>\n",
       "      <td>117</td>\n",
       "      <td>136.4</td>\n",
       "      <td>117</td>\n",
       "      <td>113.6</td>\n",
       "      <td>122</td>\n",
       "      <td>106.4</td>\n",
       "      <td>98</td>\n",
       "      <td>112.4</td>\n",
       "      <td>96.7</td>\n",
       "      <td>128.1</td>\n",
       "      <td>136.4</td>\n",
       "    </tr>\n",
       "    <tr>\n",
       "      <th>20</th>\n",
       "      <td>1948</td>\n",
       "      <td>128.6</td>\n",
       "      <td>130.7</td>\n",
       "      <td>124.8</td>\n",
       "      <td>129.3</td>\n",
       "      <td>121.3</td>\n",
       "      <td>122.4</td>\n",
       "      <td>135.3</td>\n",
       "      <td>116</td>\n",
       "      <td>128.7</td>\n",
       "      <td>108</td>\n",
       "      <td>116.1</td>\n",
       "      <td>100.9</td>\n",
       "      <td>135.3</td>\n",
       "    </tr>\n",
       "    <tr>\n",
       "      <th>21</th>\n",
       "      <td>1949</td>\n",
       "      <td>110</td>\n",
       "      <td>87.2</td>\n",
       "      <td>-</td>\n",
       "      <td>94</td>\n",
       "      <td>99.2</td>\n",
       "      <td>106.3</td>\n",
       "      <td>108.7</td>\n",
       "      <td>102.5</td>\n",
       "      <td>-</td>\n",
       "      <td>-</td>\n",
       "      <td>-</td>\n",
       "      <td>-</td>\n",
       "      <td>110</td>\n",
       "    </tr>\n",
       "    <tr>\n",
       "      <th>22</th>\n",
       "      <td>1950</td>\n",
       "      <td>-</td>\n",
       "      <td>-</td>\n",
       "      <td>-</td>\n",
       "      <td>-</td>\n",
       "      <td>-</td>\n",
       "      <td>-</td>\n",
       "      <td>-</td>\n",
       "      <td>-</td>\n",
       "      <td>-</td>\n",
       "      <td>-</td>\n",
       "      <td>108</td>\n",
       "      <td>114</td>\n",
       "      <td>114</td>\n",
       "    </tr>\n",
       "    <tr>\n",
       "      <th>23</th>\n",
       "      <td>1951</td>\n",
       "      <td>112</td>\n",
       "      <td>117</td>\n",
       "      <td>125</td>\n",
       "      <td>126</td>\n",
       "      <td>134</td>\n",
       "      <td>136</td>\n",
       "      <td>136.8</td>\n",
       "      <td>119</td>\n",
       "      <td>123</td>\n",
       "      <td>123</td>\n",
       "      <td>107.2</td>\n",
       "      <td>128</td>\n",
       "      <td>136.8</td>\n",
       "    </tr>\n",
       "    <tr>\n",
       "      <th>24</th>\n",
       "      <td>1952</td>\n",
       "      <td>113.4</td>\n",
       "      <td>111.2</td>\n",
       "      <td>111</td>\n",
       "      <td>121.6</td>\n",
       "      <td>112.8</td>\n",
       "      <td>123.6</td>\n",
       "      <td>109.1</td>\n",
       "      <td>110</td>\n",
       "      <td>98</td>\n",
       "      <td>91</td>\n",
       "      <td>112</td>\n",
       "      <td>142.4</td>\n",
       "      <td>142.4</td>\n",
       "    </tr>\n",
       "    <tr>\n",
       "      <th>25</th>\n",
       "      <td>1953</td>\n",
       "      <td>143.2</td>\n",
       "      <td>137</td>\n",
       "      <td>132.8</td>\n",
       "      <td>130.1</td>\n",
       "      <td>131.8</td>\n",
       "      <td>130.5</td>\n",
       "      <td>123.8</td>\n",
       "      <td>108.6</td>\n",
       "      <td>116.9</td>\n",
       "      <td>106.1</td>\n",
       "      <td>118</td>\n",
       "      <td>86.4</td>\n",
       "      <td>143.2</td>\n",
       "    </tr>\n",
       "    <tr>\n",
       "      <th>26</th>\n",
       "      <td>1954</td>\n",
       "      <td>105</td>\n",
       "      <td>106.3</td>\n",
       "      <td>120</td>\n",
       "      <td>102</td>\n",
       "      <td>111</td>\n",
       "      <td>122.3</td>\n",
       "      <td>128</td>\n",
       "      <td>117</td>\n",
       "      <td>119</td>\n",
       "      <td>124.2</td>\n",
       "      <td>124.4</td>\n",
       "      <td>116.5</td>\n",
       "      <td>128</td>\n",
       "    </tr>\n",
       "    <tr>\n",
       "      <th>27</th>\n",
       "      <td>1955</td>\n",
       "      <td>118.8</td>\n",
       "      <td>142</td>\n",
       "      <td>143</td>\n",
       "      <td>146.5</td>\n",
       "      <td>125.6</td>\n",
       "      <td>118.2</td>\n",
       "      <td>123</td>\n",
       "      <td>139.2</td>\n",
       "      <td>125.8</td>\n",
       "      <td>130.8</td>\n",
       "      <td>127.8</td>\n",
       "      <td>125.5</td>\n",
       "      <td>146.5</td>\n",
       "    </tr>\n",
       "    <tr>\n",
       "      <th>28</th>\n",
       "      <td>1956</td>\n",
       "      <td>129.3</td>\n",
       "      <td>142</td>\n",
       "      <td>128.9</td>\n",
       "      <td>129.7</td>\n",
       "      <td>135.9</td>\n",
       "      <td>133</td>\n",
       "      <td>145</td>\n",
       "      <td>149</td>\n",
       "      <td>123.9</td>\n",
       "      <td>109.6</td>\n",
       "      <td>114.5</td>\n",
       "      <td>105.3</td>\n",
       "      <td>149</td>\n",
       "    </tr>\n",
       "    <tr>\n",
       "      <th>29</th>\n",
       "      <td>1957</td>\n",
       "      <td>-</td>\n",
       "      <td>113</td>\n",
       "      <td>131</td>\n",
       "      <td>137.6</td>\n",
       "      <td>124.4</td>\n",
       "      <td>152</td>\n",
       "      <td>120.5</td>\n",
       "      <td>121.6</td>\n",
       "      <td>125.2</td>\n",
       "      <td>114.7</td>\n",
       "      <td>118.6</td>\n",
       "      <td>151.5</td>\n",
       "      <td>152</td>\n",
       "    </tr>\n",
       "    <tr>\n",
       "      <th>30</th>\n",
       "      <td>1958</td>\n",
       "      <td>141.8</td>\n",
       "      <td>121.7</td>\n",
       "      <td>138.9</td>\n",
       "      <td>152.1</td>\n",
       "      <td>147.1</td>\n",
       "      <td>154</td>\n",
       "      <td>140</td>\n",
       "      <td>126.8</td>\n",
       "      <td>131.9</td>\n",
       "      <td>117.2</td>\n",
       "      <td>111</td>\n",
       "      <td>114.7</td>\n",
       "      <td>154</td>\n",
       "    </tr>\n",
       "    <tr>\n",
       "      <th>31</th>\n",
       "      <td>1959</td>\n",
       "      <td>132</td>\n",
       "      <td>124.7</td>\n",
       "      <td>118</td>\n",
       "      <td>112.6</td>\n",
       "      <td>140</td>\n",
       "      <td>113.4</td>\n",
       "      <td>124.2</td>\n",
       "      <td>125.5</td>\n",
       "      <td>124.5</td>\n",
       "      <td>114</td>\n",
       "      <td>113</td>\n",
       "      <td>119.3</td>\n",
       "      <td>140</td>\n",
       "    </tr>\n",
       "    <tr>\n",
       "      <th>32</th>\n",
       "      <td>1960</td>\n",
       "      <td>-</td>\n",
       "      <td>114.4</td>\n",
       "      <td>139</td>\n",
       "      <td>-</td>\n",
       "      <td>-</td>\n",
       "      <td>-</td>\n",
       "      <td>-</td>\n",
       "      <td>-</td>\n",
       "      <td>-</td>\n",
       "      <td>107.1</td>\n",
       "      <td>123</td>\n",
       "      <td>147</td>\n",
       "      <td>147</td>\n",
       "    </tr>\n",
       "    <tr>\n",
       "      <th>33</th>\n",
       "      <td>1961</td>\n",
       "      <td>130.3</td>\n",
       "      <td>129.8</td>\n",
       "      <td>134.3</td>\n",
       "      <td>129</td>\n",
       "      <td>134</td>\n",
       "      <td>-</td>\n",
       "      <td>-</td>\n",
       "      <td>114.9</td>\n",
       "      <td>124.5</td>\n",
       "      <td>128.2</td>\n",
       "      <td>120</td>\n",
       "      <td>116</td>\n",
       "      <td>134.3</td>\n",
       "    </tr>\n",
       "    <tr>\n",
       "      <th>34</th>\n",
       "      <td>1962</td>\n",
       "      <td>142</td>\n",
       "      <td>133.9</td>\n",
       "      <td>149.8</td>\n",
       "      <td>137.8</td>\n",
       "      <td>135.5</td>\n",
       "      <td>128.3</td>\n",
       "      <td>123</td>\n",
       "      <td>124.8</td>\n",
       "      <td>125.4</td>\n",
       "      <td>123</td>\n",
       "      <td>116</td>\n",
       "      <td>139</td>\n",
       "      <td>149.8</td>\n",
       "    </tr>\n",
       "    <tr>\n",
       "      <th>35</th>\n",
       "      <td>1963</td>\n",
       "      <td>153.1</td>\n",
       "      <td>151.2</td>\n",
       "      <td>150</td>\n",
       "      <td>137.3</td>\n",
       "      <td>142.5</td>\n",
       "      <td>146</td>\n",
       "      <td>147</td>\n",
       "      <td>138.4</td>\n",
       "      <td>129.8</td>\n",
       "      <td>129.8</td>\n",
       "      <td>145.2</td>\n",
       "      <td>138</td>\n",
       "      <td>153.1</td>\n",
       "    </tr>\n",
       "    <tr>\n",
       "      <th>36</th>\n",
       "      <td>1964</td>\n",
       "      <td>133.6</td>\n",
       "      <td>110.2</td>\n",
       "      <td>120.2</td>\n",
       "      <td>128.7</td>\n",
       "      <td>131.3</td>\n",
       "      <td>126.2</td>\n",
       "      <td>127.4</td>\n",
       "      <td>119.7</td>\n",
       "      <td>133.2</td>\n",
       "      <td>133</td>\n",
       "      <td>119.6</td>\n",
       "      <td>124.2</td>\n",
       "      <td>133.6</td>\n",
       "    </tr>\n",
       "    <tr>\n",
       "      <th>37</th>\n",
       "      <td>1965</td>\n",
       "      <td>123.6</td>\n",
       "      <td>145</td>\n",
       "      <td>134.2</td>\n",
       "      <td>138.6</td>\n",
       "      <td>136.7</td>\n",
       "      <td>140.2</td>\n",
       "      <td>143</td>\n",
       "      <td>123.1</td>\n",
       "      <td>109.5</td>\n",
       "      <td>-</td>\n",
       "      <td>134</td>\n",
       "      <td>131.3</td>\n",
       "      <td>145</td>\n",
       "    </tr>\n",
       "    <tr>\n",
       "      <th>38</th>\n",
       "      <td>1966</td>\n",
       "      <td>143</td>\n",
       "      <td>142.8</td>\n",
       "      <td>153.5</td>\n",
       "      <td>152.4</td>\n",
       "      <td>140.8</td>\n",
       "      <td>141</td>\n",
       "      <td>-</td>\n",
       "      <td>-</td>\n",
       "      <td>-</td>\n",
       "      <td>-</td>\n",
       "      <td>-</td>\n",
       "      <td>-</td>\n",
       "      <td>153.5</td>\n",
       "    </tr>\n",
       "    <tr>\n",
       "      <th>39</th>\n",
       "      <td>1967</td>\n",
       "      <td>-</td>\n",
       "      <td>-</td>\n",
       "      <td>-</td>\n",
       "      <td>-</td>\n",
       "      <td>-</td>\n",
       "      <td>-</td>\n",
       "      <td>-</td>\n",
       "      <td>-</td>\n",
       "      <td>-</td>\n",
       "      <td>-</td>\n",
       "      <td>-</td>\n",
       "      <td>-</td>\n",
       "      <td>-</td>\n",
       "    </tr>\n",
       "    <tr>\n",
       "      <th>40</th>\n",
       "      <td>1968</td>\n",
       "      <td>149</td>\n",
       "      <td>124</td>\n",
       "      <td>-</td>\n",
       "      <td>-</td>\n",
       "      <td>-</td>\n",
       "      <td>-</td>\n",
       "      <td>-</td>\n",
       "      <td>-</td>\n",
       "      <td>-</td>\n",
       "      <td>139</td>\n",
       "      <td>144.7</td>\n",
       "      <td>143.1</td>\n",
       "      <td>149</td>\n",
       "    </tr>\n",
       "    <tr>\n",
       "      <th>41</th>\n",
       "      <td>1969</td>\n",
       "      <td>154.1</td>\n",
       "      <td>144.3</td>\n",
       "      <td>151.4</td>\n",
       "      <td>144.7</td>\n",
       "      <td>145.3</td>\n",
       "      <td>149.6</td>\n",
       "      <td>141.2</td>\n",
       "      <td>134</td>\n",
       "      <td>132</td>\n",
       "      <td>113.8</td>\n",
       "      <td>111.3</td>\n",
       "      <td>139</td>\n",
       "      <td>154.1</td>\n",
       "    </tr>\n",
       "    <tr>\n",
       "      <th>42</th>\n",
       "      <td>1970</td>\n",
       "      <td>137.8</td>\n",
       "      <td>163</td>\n",
       "      <td>165</td>\n",
       "      <td>155.6</td>\n",
       "      <td>149.4</td>\n",
       "      <td>145</td>\n",
       "      <td>147.8</td>\n",
       "      <td>-</td>\n",
       "      <td>-</td>\n",
       "      <td>127.9</td>\n",
       "      <td>154</td>\n",
       "      <td>142</td>\n",
       "      <td>165</td>\n",
       "    </tr>\n",
       "    <tr>\n",
       "      <th>43</th>\n",
       "      <td>1971</td>\n",
       "      <td>155</td>\n",
       "      <td>151</td>\n",
       "      <td>153.9</td>\n",
       "      <td>148</td>\n",
       "      <td>147</td>\n",
       "      <td>154</td>\n",
       "      <td>123</td>\n",
       "      <td>-</td>\n",
       "      <td>133.8</td>\n",
       "      <td>121</td>\n",
       "      <td>124.4</td>\n",
       "      <td>136.9</td>\n",
       "      <td>155</td>\n",
       "    </tr>\n",
       "    <tr>\n",
       "      <th>44</th>\n",
       "      <td>1972</td>\n",
       "      <td>135.9</td>\n",
       "      <td>145</td>\n",
       "      <td>143.8</td>\n",
       "      <td>121.5</td>\n",
       "      <td>131.1</td>\n",
       "      <td>127.5</td>\n",
       "      <td>136.2</td>\n",
       "      <td>143.9</td>\n",
       "      <td>127.8</td>\n",
       "      <td>134.6</td>\n",
       "      <td>139.7</td>\n",
       "      <td>152.9</td>\n",
       "      <td>152.9</td>\n",
       "    </tr>\n",
       "    <tr>\n",
       "      <th>45</th>\n",
       "      <td>1973</td>\n",
       "      <td>129.8</td>\n",
       "      <td>129.2</td>\n",
       "      <td>152</td>\n",
       "      <td>125.5</td>\n",
       "      <td>125.9</td>\n",
       "      <td>134</td>\n",
       "      <td>153.5</td>\n",
       "      <td>124.1</td>\n",
       "      <td>120</td>\n",
       "      <td>133.9</td>\n",
       "      <td>133.9</td>\n",
       "      <td>126.8</td>\n",
       "      <td>153.5</td>\n",
       "    </tr>\n",
       "    <tr>\n",
       "      <th>46</th>\n",
       "      <td>1974</td>\n",
       "      <td>128</td>\n",
       "      <td>155.8</td>\n",
       "      <td>136</td>\n",
       "      <td>132.2</td>\n",
       "      <td>126.5</td>\n",
       "      <td>125.8</td>\n",
       "      <td>122.7</td>\n",
       "      <td>141</td>\n",
       "      <td>140.8</td>\n",
       "      <td>137.5</td>\n",
       "      <td>153</td>\n",
       "      <td>153</td>\n",
       "      <td>155.8</td>\n",
       "    </tr>\n",
       "    <tr>\n",
       "      <th>47</th>\n",
       "      <td>1975</td>\n",
       "      <td>145</td>\n",
       "      <td>153.5</td>\n",
       "      <td>147</td>\n",
       "      <td>135.2</td>\n",
       "      <td>139.2</td>\n",
       "      <td>147</td>\n",
       "      <td>145.6</td>\n",
       "      <td>144</td>\n",
       "      <td>135.2</td>\n",
       "      <td>133.8</td>\n",
       "      <td>137.2</td>\n",
       "      <td>121.4</td>\n",
       "      <td>153.5</td>\n",
       "    </tr>\n",
       "    <tr>\n",
       "      <th>48</th>\n",
       "      <td>1976</td>\n",
       "      <td>128</td>\n",
       "      <td>135.9</td>\n",
       "      <td>128</td>\n",
       "      <td>126.6</td>\n",
       "      <td>127.5</td>\n",
       "      <td>137.2</td>\n",
       "      <td>131.4</td>\n",
       "      <td>127</td>\n",
       "      <td>130.8</td>\n",
       "      <td>155</td>\n",
       "      <td>149.8</td>\n",
       "      <td>142.5</td>\n",
       "      <td>155</td>\n",
       "    </tr>\n",
       "    <tr>\n",
       "      <th>49</th>\n",
       "      <td>1977</td>\n",
       "      <td>154.4</td>\n",
       "      <td>145</td>\n",
       "      <td>144.6</td>\n",
       "      <td>146</td>\n",
       "      <td>154</td>\n",
       "      <td>144</td>\n",
       "      <td>147.8</td>\n",
       "      <td>138.7</td>\n",
       "      <td>146</td>\n",
       "      <td>128.9</td>\n",
       "      <td>124</td>\n",
       "      <td>142.4</td>\n",
       "      <td>154.4</td>\n",
       "    </tr>\n",
       "    <tr>\n",
       "      <th>50</th>\n",
       "      <td>1978</td>\n",
       "      <td>138.5</td>\n",
       "      <td>145</td>\n",
       "      <td>148</td>\n",
       "      <td>149</td>\n",
       "      <td>152</td>\n",
       "      <td>154</td>\n",
       "      <td>148</td>\n",
       "      <td>149</td>\n",
       "      <td>144.9</td>\n",
       "      <td>139</td>\n",
       "      <td>127.5</td>\n",
       "      <td>141.5</td>\n",
       "      <td>154</td>\n",
       "    </tr>\n",
       "    <tr>\n",
       "      <th>51</th>\n",
       "      <td>1979</td>\n",
       "      <td>131.7</td>\n",
       "      <td>159</td>\n",
       "      <td>-</td>\n",
       "      <td>143.5</td>\n",
       "      <td>142.9</td>\n",
       "      <td>144.7</td>\n",
       "      <td>135.5</td>\n",
       "      <td>131.4</td>\n",
       "      <td>-</td>\n",
       "      <td>-</td>\n",
       "      <td>-</td>\n",
       "      <td>-</td>\n",
       "      <td>159</td>\n",
       "    </tr>\n",
       "    <tr>\n",
       "      <th>52</th>\n",
       "      <td>1980</td>\n",
       "      <td>-</td>\n",
       "      <td>-</td>\n",
       "      <td>-</td>\n",
       "      <td>-</td>\n",
       "      <td>-</td>\n",
       "      <td>-</td>\n",
       "      <td>-</td>\n",
       "      <td>-</td>\n",
       "      <td>-</td>\n",
       "      <td>131.2</td>\n",
       "      <td>128.9</td>\n",
       "      <td>137.7</td>\n",
       "      <td>137.7</td>\n",
       "    </tr>\n",
       "  </tbody>\n",
       "</table>\n",
       "</div>"
      ],
      "text/plain": [
       "    year      I     II    III     IV      V     VI    VII   VIII     IX  \\\n",
       "0   1928      -      -      -      -      -      -      -      -      -   \n",
       "1   1929    125    111    117  110.8  111.7    113    109  126.5    105   \n",
       "2   1930   93.4    102   87.5  101.2  104.1    118  122.1   96.9  105.6   \n",
       "3   1931    111  121.9  117.3    117  118.2  123.7    126  117.5  125.2   \n",
       "4   1932  115.4  111.5  112.9  107.4  117.7  143.4  110.2    110    106   \n",
       "5   1933   89.9  100.3   98.3    118  106.8  126.2    116  116.8  110.6   \n",
       "6   1934  141.5  105.5      -      -      -      -      -   99.5  100.8   \n",
       "7   1935  118.8     98  114.1     94  114.4  114.5  108.4     96   94.2   \n",
       "8   1936  104.3    152  128.6  123.1  131.3  115.8    124  120.5   94.5   \n",
       "9   1937  123.4  117.3  135.2  135.6  124.9  121.1  125.9  111.3  108.2   \n",
       "10  1938  131.4  118.4    122    118  117.5  114.7  116.2  114.1  117.1   \n",
       "11  1939    117  114.5  124.2  110.8  113.9  124.9  106.3  129.5  114.8   \n",
       "12  1940  129.3    119  128.3  141.5    135  136.1  136.1    126  139.4   \n",
       "13  1941    134    125  125.5  126.5  149.5    134  154.5    136  126.2   \n",
       "14  1942  126.4  117.6  131.6  119.3  124.2  139.9  125.6  121.3    125   \n",
       "15  1943  125.5  106.4  101.6  108.1  109.8  110.9  104.5  102.8    111   \n",
       "16  1944  117.7  117.2  137.8  137.6  124.2      -  120.6    135  103.8   \n",
       "17  1945    125  124.2    119  111.1  121.9  116.1  109.1  111.6  119.4   \n",
       "18  1946  129.4  101.6  146.2  113.3  121.2    121  117.3  114.9  104.3   \n",
       "19  1947    119  108.1    117  136.4    117  113.6    122  106.4     98   \n",
       "20  1948  128.6  130.7  124.8  129.3  121.3  122.4  135.3    116  128.7   \n",
       "21  1949    110   87.2      -     94   99.2  106.3  108.7  102.5      -   \n",
       "22  1950      -      -      -      -      -      -      -      -      -   \n",
       "23  1951    112    117    125    126    134    136  136.8    119    123   \n",
       "24  1952  113.4  111.2    111  121.6  112.8  123.6  109.1    110     98   \n",
       "25  1953  143.2    137  132.8  130.1  131.8  130.5  123.8  108.6  116.9   \n",
       "26  1954    105  106.3    120    102    111  122.3    128    117    119   \n",
       "27  1955  118.8    142    143  146.5  125.6  118.2    123  139.2  125.8   \n",
       "28  1956  129.3    142  128.9  129.7  135.9    133    145    149  123.9   \n",
       "29  1957      -    113    131  137.6  124.4    152  120.5  121.6  125.2   \n",
       "30  1958  141.8  121.7  138.9  152.1  147.1    154    140  126.8  131.9   \n",
       "31  1959    132  124.7    118  112.6    140  113.4  124.2  125.5  124.5   \n",
       "32  1960      -  114.4    139      -      -      -      -      -      -   \n",
       "33  1961  130.3  129.8  134.3    129    134      -      -  114.9  124.5   \n",
       "34  1962    142  133.9  149.8  137.8  135.5  128.3    123  124.8  125.4   \n",
       "35  1963  153.1  151.2    150  137.3  142.5    146    147  138.4  129.8   \n",
       "36  1964  133.6  110.2  120.2  128.7  131.3  126.2  127.4  119.7  133.2   \n",
       "37  1965  123.6    145  134.2  138.6  136.7  140.2    143  123.1  109.5   \n",
       "38  1966    143  142.8  153.5  152.4  140.8    141      -      -      -   \n",
       "39  1967      -      -      -      -      -      -      -      -      -   \n",
       "40  1968    149    124      -      -      -      -      -      -      -   \n",
       "41  1969  154.1  144.3  151.4  144.7  145.3  149.6  141.2    134    132   \n",
       "42  1970  137.8    163    165  155.6  149.4    145  147.8      -      -   \n",
       "43  1971    155    151  153.9    148    147    154    123      -  133.8   \n",
       "44  1972  135.9    145  143.8  121.5  131.1  127.5  136.2  143.9  127.8   \n",
       "45  1973  129.8  129.2    152  125.5  125.9    134  153.5  124.1    120   \n",
       "46  1974    128  155.8    136  132.2  126.5  125.8  122.7    141  140.8   \n",
       "47  1975    145  153.5    147  135.2  139.2    147  145.6    144  135.2   \n",
       "48  1976    128  135.9    128  126.6  127.5  137.2  131.4    127  130.8   \n",
       "49  1977  154.4    145  144.6    146    154    144  147.8  138.7    146   \n",
       "50  1978  138.5    145    148    149    152    154    148    149  144.9   \n",
       "51  1979  131.7    159      -  143.5  142.9  144.7  135.5  131.4      -   \n",
       "52  1980      -      -      -      -      -      -      -      -      -   \n",
       "\n",
       "        X     XI    XII annually  \n",
       "0    78.9    105    116      116  \n",
       "1     120   96.1  137.5    137.5  \n",
       "2     101    101  119.2    122.1  \n",
       "3     116    147  118.2      147  \n",
       "4    95.8  116.7   95.4    143.4  \n",
       "5   107.3    141  131.3      141  \n",
       "6   101.7     91  101.4    141.5  \n",
       "7    99.4  116.5  118.3    118.8  \n",
       "8   105.3    114  113.3      152  \n",
       "9   129.1    124    133    135.6  \n",
       "10    133  102.6  110.9      133  \n",
       "11  116.3  119.7  132.2    132.2  \n",
       "12  119.2    126  139.2    141.5  \n",
       "13    127  153.6  135.4    154.5  \n",
       "14  110.7  131.4  109.9    139.9  \n",
       "15  125.7     99  121.6    125.7  \n",
       "16  127.2  126.6  141.9    141.9  \n",
       "17   93.4  128.4  126.2    128.4  \n",
       "18   99.2  106.6    146      146  \n",
       "19  112.4   96.7  128.1    136.4  \n",
       "20    108  116.1  100.9    135.3  \n",
       "21      -      -      -      110  \n",
       "22      -    108    114      114  \n",
       "23    123  107.2    128    136.8  \n",
       "24     91    112  142.4    142.4  \n",
       "25  106.1    118   86.4    143.2  \n",
       "26  124.2  124.4  116.5      128  \n",
       "27  130.8  127.8  125.5    146.5  \n",
       "28  109.6  114.5  105.3      149  \n",
       "29  114.7  118.6  151.5      152  \n",
       "30  117.2    111  114.7      154  \n",
       "31    114    113  119.3      140  \n",
       "32  107.1    123    147      147  \n",
       "33  128.2    120    116    134.3  \n",
       "34    123    116    139    149.8  \n",
       "35  129.8  145.2    138    153.1  \n",
       "36    133  119.6  124.2    133.6  \n",
       "37      -    134  131.3      145  \n",
       "38      -      -      -    153.5  \n",
       "39      -      -      -        -  \n",
       "40    139  144.7  143.1      149  \n",
       "41  113.8  111.3    139    154.1  \n",
       "42  127.9    154    142      165  \n",
       "43    121  124.4  136.9      155  \n",
       "44  134.6  139.7  152.9    152.9  \n",
       "45  133.9  133.9  126.8    153.5  \n",
       "46  137.5    153    153    155.8  \n",
       "47  133.8  137.2  121.4    153.5  \n",
       "48    155  149.8  142.5      155  \n",
       "49  128.9    124  142.4    154.4  \n",
       "50    139  127.5  141.5      154  \n",
       "51      -      -      -      159  \n",
       "52  131.2  128.9  137.7    137.7  "
      ]
     },
     "execution_count": 3,
     "metadata": {},
     "output_type": "execute_result"
    }
   ],
   "source": [
    "# Reading the input *.csv file from Internet (GitHub):\n",
    "path_file = \"https://raw.githubusercontent.com/Geo2020/Sea-levels-in-Bourgas-Bay/main/data/high_waters.csv\"\n",
    "# instead of:\n",
    "# path_file = \"https://github.com/Geo2020/Sea-levels-in-Bourgas-Bay/blob/main/data/high_waters.csv\"\n",
    "\n",
    "inp_data = pd.read_csv(path_file, sep=\",\", header=1)\n",
    "inp_data"
   ]
  },
  {
   "cell_type": "markdown",
   "metadata": {},
   "source": [
    "From the above input data, we extract the annual highest sea levels (the column “annually” from the DataFrame) - this will be our variable to be analysed.\n",
    "\n",
    "The sea levels are given in [cm] up to the Black Sea altitude system (BSS). BSS was introduced in Bulgaria in 1931, using a \"zero\" sea level as the initial level, determined by the average level of 892 round-the-clock observations of the tide gauge in Varna (68.17 cm at that time). With the initial \"zero\" adopted, the network is levelled in a unified geodetic net, and with the \n",
    "determined heights of the levelling benchmarks served as the main height base for the whole territory of the country. \n",
    "The subsequent levelling measurements were updated in 1952-53 and later related to the Baltic geodetic system (BS).\n",
    "In BS, the heights are counted from the “zero” of the Kronstadt tide gauge, which represents the long-term average level of the Baltic Sea."
   ]
  },
  {
   "cell_type": "code",
   "execution_count": 4,
   "metadata": {},
   "outputs": [
    {
     "data": {
      "text/plain": [
       "0       116\n",
       "1     137.5\n",
       "2     122.1\n",
       "3       147\n",
       "4     143.4\n",
       "5       141\n",
       "6     141.5\n",
       "7     118.8\n",
       "8       152\n",
       "9     135.6\n",
       "10      133\n",
       "11    132.2\n",
       "12    141.5\n",
       "13    154.5\n",
       "14    139.9\n",
       "15    125.7\n",
       "16    141.9\n",
       "17    128.4\n",
       "18      146\n",
       "19    136.4\n",
       "20    135.3\n",
       "21      110\n",
       "22      114\n",
       "23    136.8\n",
       "24    142.4\n",
       "25    143.2\n",
       "26      128\n",
       "27    146.5\n",
       "28      149\n",
       "29      152\n",
       "30      154\n",
       "31      140\n",
       "32      147\n",
       "33    134.3\n",
       "34    149.8\n",
       "35    153.1\n",
       "36    133.6\n",
       "37      145\n",
       "38    153.5\n",
       "39        -\n",
       "40      149\n",
       "41    154.1\n",
       "42      165\n",
       "43      155\n",
       "44    152.9\n",
       "45    153.5\n",
       "46    155.8\n",
       "47    153.5\n",
       "48      155\n",
       "49    154.4\n",
       "50      154\n",
       "51      159\n",
       "52    137.7\n",
       "Name: annually, dtype: object"
      ]
     },
     "execution_count": 4,
     "metadata": {},
     "output_type": "execute_result"
    }
   ],
   "source": [
    "annual_levels = inp_data[\"annually\"]\n",
    "annual_levels\n",
    "# print(high_levels.dtypes)  # object"
   ]
  },
  {
   "cell_type": "markdown",
   "metadata": {},
   "source": [
    "From the above data (the annual highest sea levels), we exclude the lines with no real records."
   ]
  },
  {
   "cell_type": "code",
   "execution_count": 5,
   "metadata": {},
   "outputs": [],
   "source": [
    "# print(len(annual_levels))  # 53\n",
    "levels_list = list()\n",
    "for el in annual_levels:\n",
    "    try:\n",
    "        el = float(el)\n",
    "        levels_list.append(el)\n",
    "    except Exception:\n",
    "        continue\n",
    "\n",
    "# print(len(high_levels))  # 52\n",
    "high_levels = np.array(levels_list)\n",
    "# high_levels"
   ]
  },
  {
   "cell_type": "markdown",
   "metadata": {},
   "source": [
    "### Determining the main statistics for analysis"
   ]
  },
  {
   "cell_type": "markdown",
   "metadata": {},
   "source": [
    "For our statistical analysis, we should determine the main characteristics of the input sample. For this purpose, we will \n",
    "group the recorded data (annual sea levels) in 10 groups (bins) dividing the inputs sorted in ascending order from the minimum \n",
    "sea level to the maximum one.\n",
    "\n",
    "Note: Some statistical methods recommend the count of bins to be 2, 5, 10, or 20, depending on the number of the sampling records (https://www.predictiveanalyticstoday.com/cumfreq/); if the latter is more than 50 (and less than 100), 10 bins are recommended, if the records are more than 100, 20 bins are to be used. In our case, we have 52 sampling records, thus 10 bins are to be taken."
   ]
  },
  {
   "cell_type": "code",
   "execution_count": 6,
   "metadata": {},
   "outputs": [],
   "source": [
    "bins_min = (np.math.floor(min(high_levels) * 10)) / 10\n",
    "# print(bins_min)  # 110\n",
    "bins_max = (np.math.ceil(max(high_levels) * 10)) / 10\n",
    "# print(bins_max)  # 165.0\n",
    "bins_count = 10\n",
    "bins_interval = (bins_max - bins_min) / bins_count\n",
    "# bins_interval  # 5.5"
   ]
  },
  {
   "cell_type": "markdown",
   "metadata": {},
   "source": [
    "The Mean and Standard deviation (of a sample) are found as well:"
   ]
  },
  {
   "cell_type": "code",
   "execution_count": 7,
   "metadata": {},
   "outputs": [
    {
     "name": "stdout",
     "output_type": "stream",
     "text": [
      "Mean: 142.3230769230769\n",
      "Standard deviation (of the Sample): 12.324495223081989\n"
     ]
    }
   ],
   "source": [
    "high_levels_mean = np.mean(high_levels)\n",
    "high_levels_std = np.std(high_levels, ddof=1)\n",
    "print(f\"Mean: {high_levels_mean}\\nStandard deviation (of the Sample): {high_levels_std}\")"
   ]
  },
  {
   "cell_type": "markdown",
   "metadata": {},
   "source": [
    "We can visualise the distribution of the sea-level inputs with a histogram plotting the Mean and Standard deviation of the sample inside."
   ]
  },
  {
   "cell_type": "code",
   "execution_count": 8,
   "metadata": {},
   "outputs": [
    {
     "data": {
      "image/png": "[encoded data removed]",
      "text/plain": [
       "<Figure size 432x288 with 1 Axes>"
      ]
     },
     "metadata": {
      "needs_background": "light"
     },
     "output_type": "display_data"
    }
   ],
   "source": [
    "# plotting Histogram:\n",
    "plt.hist(high_levels, bins=15)\n",
    "plt.axvline(x=high_levels_mean, color='red', linewidth=3 , label='Mean')\n",
    "\n",
    "plt.axvline(x=high_levels_mean + high_levels_std, color='black', linewidth=3 , label='St.Dev.')\n",
    "plt.axvline(x=high_levels_mean - high_levels_std, color='black', linewidth=3)\n",
    "\n",
    "plt.title('Highest Sea-level distribution', fontsize=13)\n",
    "plt.xlabel('Highest Sea Levels, [cm]', fontsize=12)  # title on ‘x’ axis \n",
    "plt.ylabel('Count',fontsize=12)  # title on ‘y’ axis\n",
    "plt.legend(loc=\"upper left\")\n",
    "plt.show()"
   ]
  },
  {
   "cell_type": "markdown",
   "metadata": {},
   "source": [
    "We create a dictionary containing the count of recorded observation for each bin (numbered from 0 to 9), where the variable (highest sea level) is included in a given bin if the variable is bigger or equal to the minimum bin threshold and less than the maximum bin threshold (for example, the sea level 137.5 cm is to be in bin numerated '5' with limits: '137.5 - 143' (with 137.5 threshold included but 143 - excluded from the count)."
   ]
  },
  {
   "cell_type": "code",
   "execution_count": 9,
   "metadata": {},
   "outputs": [],
   "source": [
    "bins_dict = {k: 0 for k in range(bins_count)}\n",
    "# print(bins_dict)\n",
    "events = len(high_levels)  # 52\n",
    "for i in range(events):\n",
    "    # print(high_levels[i])\n",
    "    x = np.math.floor((high_levels[i] - bins_min) / bins_interval)\n",
    "    if x >= len(bins_dict):\n",
    "        x = len(bins_dict) - 1\n",
    "    # print(x)\n",
    "    bins_dict[x] += 1\n",
    "\n",
    "# print(bins_dict)  # {0: 2, 1: 2, 2: 2, 3: 2, 4: 8, 5: 9, 6: 7, 7: 10, 8: 9, 9: 1}"
   ]
  },
  {
   "cell_type": "markdown",
   "metadata": {},
   "source": [
    "Having the count of variables in each bin, we obtain the percentage of the event occurrences:"
   ]
  },
  {
   "cell_type": "code",
   "execution_count": 10,
   "metadata": {},
   "outputs": [],
   "source": [
    "bins_percents = {k: (bins_dict[k] / events) for (k, v) in bins_dict.items()}\n",
    "# print(f\"bins_percents: {bins_percents}\")"
   ]
  },
  {
   "cell_type": "markdown",
   "metadata": {},
   "source": [
    "The determined statistics can be included in a Dataframe (using 'pandas' library):"
   ]
  },
  {
   "cell_type": "code",
   "execution_count": 11,
   "metadata": {},
   "outputs": [],
   "source": [
    "groups = pd.DataFrame()\n",
    "\n",
    "x_list = [bins_min + i * bins_interval for i in range(bins_count)]\n",
    "# x_list\n",
    "x_bin = np.array(x_list)\n",
    "# x_bin\n",
    "groups[\"X_bin\"] = x_bin\n",
    "# groups.T\n",
    "\n",
    "groups[\"Occurrence\"] = bins_percents.values()\n",
    "occurences_array = np.array(groups[\"Occurrence\"])\n",
    "# occurences_array\n",
    "# groups.T"
   ]
  },
  {
   "cell_type": "code",
   "execution_count": 12,
   "metadata": {},
   "outputs": [],
   "source": [
    "cumulative = [0.0]\n",
    "cumulative\n",
    "for i in range(1, bins_count):\n",
    "    cumulative.append(groups[\"Occurrence\"][i-1] + cumulative[i-1])\n",
    "# print(cumulative_list)\n",
    "groups[\"Cumulative\"] = cumulative\n",
    "# groups[\"Cumulative\"] = pd.DataFrame(cumulative_list)\n",
    "cumulative_array = np.array(cumulative)\n",
    "# print(cumulative_array)\n",
    "\n",
    "groups[\"Exceedance\"] = 1 - groups[\"Cumulative\"]\n",
    "# groups.T"
   ]
  },
  {
   "cell_type": "code",
   "execution_count": 13,
   "metadata": {},
   "outputs": [
    {
     "data": {
      "text/html": [
       "<div>\n",
       "<style scoped>\n",
       "    .dataframe tbody tr th:only-of-type {\n",
       "        vertical-align: middle;\n",
       "    }\n",
       "\n",
       "    .dataframe tbody tr th {\n",
       "        vertical-align: top;\n",
       "    }\n",
       "\n",
       "    .dataframe thead th {\n",
       "        text-align: right;\n",
       "    }\n",
       "</style>\n",
       "<table border=\"1\" class=\"dataframe\">\n",
       "  <thead>\n",
       "    <tr style=\"text-align: right;\">\n",
       "      <th></th>\n",
       "      <th>0</th>\n",
       "      <th>1</th>\n",
       "      <th>2</th>\n",
       "      <th>3</th>\n",
       "      <th>4</th>\n",
       "      <th>5</th>\n",
       "      <th>6</th>\n",
       "      <th>7</th>\n",
       "      <th>8</th>\n",
       "      <th>9</th>\n",
       "    </tr>\n",
       "  </thead>\n",
       "  <tbody>\n",
       "    <tr>\n",
       "      <th>X_bin</th>\n",
       "      <td>110</td>\n",
       "      <td>115.5</td>\n",
       "      <td>121</td>\n",
       "      <td>126.5</td>\n",
       "      <td>132</td>\n",
       "      <td>137.5</td>\n",
       "      <td>143</td>\n",
       "      <td>148.5</td>\n",
       "      <td>154</td>\n",
       "      <td>159.5</td>\n",
       "    </tr>\n",
       "    <tr>\n",
       "      <th>Occurrence</th>\n",
       "      <td>0.0384615</td>\n",
       "      <td>0.0384615</td>\n",
       "      <td>0.0384615</td>\n",
       "      <td>0.0384615</td>\n",
       "      <td>0.153846</td>\n",
       "      <td>0.173077</td>\n",
       "      <td>0.134615</td>\n",
       "      <td>0.192308</td>\n",
       "      <td>0.173077</td>\n",
       "      <td>0.0192308</td>\n",
       "    </tr>\n",
       "    <tr>\n",
       "      <th>Cumulative</th>\n",
       "      <td>0</td>\n",
       "      <td>0.0384615</td>\n",
       "      <td>0.0769231</td>\n",
       "      <td>0.115385</td>\n",
       "      <td>0.153846</td>\n",
       "      <td>0.307692</td>\n",
       "      <td>0.480769</td>\n",
       "      <td>0.615385</td>\n",
       "      <td>0.807692</td>\n",
       "      <td>0.980769</td>\n",
       "    </tr>\n",
       "    <tr>\n",
       "      <th>Exceedance</th>\n",
       "      <td>1</td>\n",
       "      <td>0.961538</td>\n",
       "      <td>0.923077</td>\n",
       "      <td>0.884615</td>\n",
       "      <td>0.846154</td>\n",
       "      <td>0.692308</td>\n",
       "      <td>0.519231</td>\n",
       "      <td>0.384615</td>\n",
       "      <td>0.192308</td>\n",
       "      <td>0.0192308</td>\n",
       "    </tr>\n",
       "    <tr>\n",
       "      <th>Tr_bin</th>\n",
       "      <td>1.0</td>\n",
       "      <td>1.0</td>\n",
       "      <td>1.1</td>\n",
       "      <td>1.1</td>\n",
       "      <td>1.2</td>\n",
       "      <td>1.4</td>\n",
       "      <td>1.9</td>\n",
       "      <td>2.6</td>\n",
       "      <td>5.2</td>\n",
       "      <td>52.0</td>\n",
       "    </tr>\n",
       "  </tbody>\n",
       "</table>\n",
       "</div>"
      ],
      "text/plain": [
       "                    0          1          2          3         4         5  \\\n",
       "X_bin             110      115.5        121      126.5       132     137.5   \n",
       "Occurrence  0.0384615  0.0384615  0.0384615  0.0384615  0.153846  0.173077   \n",
       "Cumulative          0  0.0384615  0.0769231   0.115385  0.153846  0.307692   \n",
       "Exceedance          1   0.961538   0.923077   0.884615  0.846154  0.692308   \n",
       "Tr_bin            1.0        1.0        1.1        1.1       1.2       1.4   \n",
       "\n",
       "                   6         7         8          9  \n",
       "X_bin            143     148.5       154      159.5  \n",
       "Occurrence  0.134615  0.192308  0.173077  0.0192308  \n",
       "Cumulative  0.480769  0.615385  0.807692   0.980769  \n",
       "Exceedance  0.519231  0.384615  0.192308  0.0192308  \n",
       "Tr_bin           1.9       2.6       5.2       52.0  "
      ]
     },
     "execution_count": 13,
     "metadata": {},
     "output_type": "execute_result"
    }
   ],
   "source": [
    "# Additional variable - Tr (Return period):\n",
    "t_r_gr = 1 / (1 - cumulative_array)\n",
    "# t_r_gr\n",
    "groups[\"Tr_bin\"] = t_r_gr\n",
    "# Shorten decimal precision in the DataFrame:\n",
    "groups[\"Tr_bin\"] = groups[\"Tr_bin\"].map(lambda x: \"{:,.1f}\".format(x))\n",
    "\n",
    "groups.T"
   ]
  },
  {
   "cell_type": "markdown",
   "metadata": {},
   "source": [
    "We plot a Bar chart for the statistics of the groups in the above table (since the bins are kind of categorical variables)."
   ]
  },
  {
   "cell_type": "code",
   "execution_count": 14,
   "metadata": {},
   "outputs": [
    {
     "data": {
      "image/png": "[encoded data removed]",
      "text/plain": [
       "<Figure size 432x288 with 1 Axes>"
      ]
     },
     "metadata": {
      "needs_background": "light"
     },
     "output_type": "display_data"
    }
   ],
   "source": [
    "# plotting Bar chart (for categorial distribution):\n",
    "plt.bar(groups.index, groups['Cumulative'], alpha=1.0, label=\"cumulative\")\n",
    "plt.bar(groups.index, groups['Occurrence'], alpha=0.9, color=\"r\", label=\"occurrence\")\n",
    "\n",
    "plt.title(f\"Occurrences and Cumulative \\n(Frechet distribution)\")\n",
    "plt.xticks(range(10))\n",
    "plt.xlabel(\"Bin no.\", fontsize=12)\n",
    "plt.ylabel(\"Y, [-]\", fontsize=12)\n",
    "plt.legend(loc=\"upper left\")\n",
    "\n",
    "plt.show()"
   ]
  },
  {
   "cell_type": "markdown",
   "metadata": {},
   "source": [
    "### Fréchet distribution"
   ]
  },
  {
   "cell_type": "markdown",
   "metadata": {},
   "source": [
    "The variations of the water levels are investigated in the Coastal Engineering Manual [3], and the main statistical distributions are found to be any of the following extreme value distributions: *Log-Pearson*, *Fréchet*, *Weibull*, or *Gumbel*. In work [4], the Fréchet distribution is considered by the authors for finding the probability of exceedance of the annual maximum water levels in Varna Lake. Below, we analyse the **Fréchet distribution**, also generalised as the *Fisher-Tippett Type II* **(FT-II)**. \n",
    "\n",
    "The basic description of this distribution is given in [Wikipedia]:\n",
    "\n",
    "(https://en.wikipedia.org/wiki/Fr%C3%A9chet_distribution)\n",
    "\n",
    "and the main distribution functions, namely c.d.f. and p.d.f. are in kind of:\n",
    "\n",
    "[Fréchet (FT-II) c.d.f.]<img src=https://upload.wikimedia.org/wikipedia/commons/d/dd/Frechet_cdf.svg?download width=\"400\">\n",
    "\n",
    "[Fréchet (FT-II) p.d.f.]<img src=https://upload.wikimedia.org/wikipedia/commons/thumb/e/e0/Frechet_pdf.svg/800px-Frechet_pdf.svg.png width=\"400\">"
   ]
  },
  {
   "cell_type": "markdown",
   "metadata": {},
   "source": [
    "In [3], the cumulative distribution function (c.d.f.) of the Fréchet distribution is shown in the form of: \n",
    "$$ c.d.f. = exp\\left[ -\\,\\left(\\frac{x}{A}\\right)^{-k}\\right] \\;\\;\\;\\;\\; (1) $$"
   ]
  },
  {
   "cell_type": "markdown",
   "metadata": {},
   "source": [
    "As for the Fréchet distribution probability density function (p.d.f.), it can be derived from the generalised formula in the technical literature (with the intercept coefficient equal to zero - see [Wikipedia] as well):\n",
    "$$p.d.f. = \\frac{k}{A}\\left\\{\\left(\\frac{x}{A}\\right)^{-1-k}.exp\\left[-\\left(\\frac{x}{A}\\right)^{-k}\\right]\\right\\}\\;\\;\\;\\;\\;(2)$$"
   ]
  },
  {
   "cell_type": "markdown",
   "metadata": {},
   "source": [
    "From equation (1), we can derive:\n",
    "$$ ln(x) = -\\,\\frac{1}{k}.ln\\left[ -ln\\left(c.d.f.\\right)\\right] + ln(A) \\;\\;\\;\\;\\; (3) $$"
   ]
  },
  {
   "cell_type": "markdown",
   "metadata": {},
   "source": [
    "The equation (3) is a line equation with *slope* $ (−1/k) $ and *intercept* $ ln(A) $, which parameters are to be found with Regression analysis (least squares method) for arrays with *argument* $ ln[–ln(c.d.f.)] $ and *Y-values*: $ ln(x) $.\n",
    "Below, we find these variables."
   ]
  },
  {
   "cell_type": "code",
   "execution_count": 15,
   "metadata": {},
   "outputs": [
    {
     "name": "stderr",
     "output_type": "stream",
     "text": [
      "<ipython-input-15-18edd8a1c759>:1: RuntimeWarning: divide by zero encountered in log\n",
      "  x_args = np.log(-np.log(cumulative))\n"
     ]
    }
   ],
   "source": [
    "x_args = np.log(-np.log(cumulative))\n",
    "# x_args\n",
    "ln_x_array = np.log(x_bin)\n",
    "# ln_x_array"
   ]
  },
  {
   "cell_type": "code",
   "execution_count": 16,
   "metadata": {},
   "outputs": [
    {
     "data": {
      "text/html": [
       "<div>\n",
       "<style scoped>\n",
       "    .dataframe tbody tr th:only-of-type {\n",
       "        vertical-align: middle;\n",
       "    }\n",
       "\n",
       "    .dataframe tbody tr th {\n",
       "        vertical-align: top;\n",
       "    }\n",
       "\n",
       "    .dataframe thead th {\n",
       "        text-align: right;\n",
       "    }\n",
       "</style>\n",
       "<table border=\"1\" class=\"dataframe\">\n",
       "  <thead>\n",
       "    <tr style=\"text-align: right;\">\n",
       "      <th></th>\n",
       "      <th>0</th>\n",
       "      <th>1</th>\n",
       "      <th>2</th>\n",
       "      <th>3</th>\n",
       "      <th>4</th>\n",
       "      <th>5</th>\n",
       "      <th>6</th>\n",
       "      <th>7</th>\n",
       "      <th>8</th>\n",
       "      <th>9</th>\n",
       "    </tr>\n",
       "  </thead>\n",
       "  <tbody>\n",
       "    <tr>\n",
       "      <th>ln[-ln(c.d.f.)]</th>\n",
       "      <td>inf</td>\n",
       "      <td>1.181143</td>\n",
       "      <td>0.941939</td>\n",
       "      <td>0.769869</td>\n",
       "      <td>0.626902</td>\n",
       "      <td>0.164374</td>\n",
       "      <td>-0.311472</td>\n",
       "      <td>-0.722560</td>\n",
       "      <td>-1.543771</td>\n",
       "      <td>-3.941550</td>\n",
       "    </tr>\n",
       "    <tr>\n",
       "      <th>y=ln(X)</th>\n",
       "      <td>4.70048</td>\n",
       "      <td>4.749271</td>\n",
       "      <td>4.795791</td>\n",
       "      <td>4.840242</td>\n",
       "      <td>4.882802</td>\n",
       "      <td>4.923624</td>\n",
       "      <td>4.962845</td>\n",
       "      <td>5.000585</td>\n",
       "      <td>5.036953</td>\n",
       "      <td>5.072044</td>\n",
       "    </tr>\n",
       "  </tbody>\n",
       "</table>\n",
       "</div>"
      ],
      "text/plain": [
       "                       0         1         2         3         4         5  \\\n",
       "ln[-ln(c.d.f.)]      inf  1.181143  0.941939  0.769869  0.626902  0.164374   \n",
       "y=ln(X)          4.70048  4.749271  4.795791  4.840242  4.882802  4.923624   \n",
       "\n",
       "                        6         7         8         9  \n",
       "ln[-ln(c.d.f.)] -0.311472 -0.722560 -1.543771 -3.941550  \n",
       "y=ln(X)          4.962845  5.000585  5.036953  5.072044  "
      ]
     },
     "execution_count": 16,
     "metadata": {},
     "output_type": "execute_result"
    }
   ],
   "source": [
    "# Inserting the above variables in a new table:\n",
    "frechet_tab = pd.DataFrame()\n",
    "frechet_tab[\"ln[-ln(c.d.f.)]\"] = x_args\n",
    "frechet_tab[\"y=ln(X)\"] = ln_x_array\n",
    "\n",
    "frechet_tab.T"
   ]
  },
  {
   "cell_type": "markdown",
   "metadata": {},
   "source": [
    "### Polynomial interpolation method"
   ]
  },
  {
   "cell_type": "markdown",
   "metadata": {},
   "source": [
    "We can determine the coefficients of the above line using the *polynomial interpolation method* with *degree* = 1 (*linear polynomial*)."
   ]
  },
  {
   "cell_type": "code",
   "execution_count": 17,
   "metadata": {},
   "outputs": [],
   "source": [
    "x_coords = []\n",
    "y_coords = []\n",
    "for i in range(bins_count):\n",
    "    if x_args[i] < sys.maxsize and -x_args[i] > -sys.maxsize and ln_x_array[i] < sys.maxsize and -ln_x_array[i] > -sys.maxsize:\n",
    "        x_coords.append(x_args[i])\n",
    "        y_coords.append(ln_x_array[i])\n",
    "\n",
    "# print(x_coords)\n",
    "# print(y_coords)"
   ]
  },
  {
   "cell_type": "code",
   "execution_count": 18,
   "metadata": {},
   "outputs": [],
   "source": [
    "def find_polynomial_fit(x, y, degree):\n",
    "    coeffs = np.polyfit(x, y, degree)  # (a, b, ...) - coeffs. of a polynomial function: a.x^n + b.x^(n-1) + ...\n",
    "    polynomial_function = np.poly1d(coeffs)\n",
    "    return polynomial_function"
   ]
  },
  {
   "cell_type": "code",
   "execution_count": 19,
   "metadata": {},
   "outputs": [],
   "source": [
    "def find_polynomial_coeffs(x, y, degree):\n",
    "    coeffs = np.polyfit(x, y, degree)\n",
    "    return coeffs"
   ]
  },
  {
   "cell_type": "markdown",
   "metadata": {},
   "source": [
    "The polynomial coefficients (line's slope and intercept) are calculated as below."
   ]
  },
  {
   "cell_type": "code",
   "execution_count": 20,
   "metadata": {},
   "outputs": [
    {
     "name": "stdout",
     "output_type": "stream",
     "text": [
      "coeff. m = -0.06013245510040879\n",
      "coeff. c = 4.899296909490276\n"
     ]
    }
   ],
   "source": [
    "m_c_coeffs = find_polynomial_coeffs(x_coords, y_coords, 1)\n",
    "m_coeff = m_c_coeffs[0]\n",
    "print(f\"coeff. m = {m_coeff}\")\n",
    "c_coeff = m_c_coeffs[1]\n",
    "print(f\"coeff. c = {c_coeff}\")"
   ]
  },
  {
   "cell_type": "markdown",
   "metadata": {},
   "source": [
    "The linear polynomial interpolation of the dependence $ ln(x) $ as a function of $ ln[–ln(c.d.f.)] $ is visualised below."
   ]
  },
  {
   "cell_type": "code",
   "execution_count": 21,
   "metadata": {},
   "outputs": [],
   "source": [
    "def interpolate_polynomial(x_points, y_points, degree, min_x, max_x, title=''):\n",
    "    \"\"\"\n",
    "    Interpolates a polynomial of the specified degree through the given points and plots it points \n",
    "    - a list of points (x, y) to plot degree - the polynomial degree min_x, max_x \n",
    "    - range of x values used to plot the interpolating polynomial\n",
    "    \"\"\"   \n",
    "    x = x_points\n",
    "    y = y_points\n",
    "    polynomial_func = find_polynomial_fit(x, y, degree)  # calls another function returning a fitting polynomial\n",
    "    \n",
    "    # Scatter plot:\n",
    "    plt.scatter(x, y, c='b')\n",
    "    # Plot:\n",
    "    x_poly = np.linspace(min_x, max_x, 5000)\n",
    "    y_poly = polynomial_func(x_poly)\n",
    "    plt.plot(x_poly, y_poly, c='r')\n",
    "    \n",
    "    plt.title(title, fontsize=14)\n",
    "    plt.xlabel(\"x = ln[-ln(c.d.f.)]\", fontsize=14)\n",
    "    plt.ylabel(\"y = ln(x - B)\", fontsize=13)\n",
    "    plt.show()"
   ]
  },
  {
   "cell_type": "code",
   "execution_count": 22,
   "metadata": {},
   "outputs": [
    {
     "data": {
      "image/png": "[encoded data removed]",
      "text/plain": [
       "<Figure size 432x288 with 1 Axes>"
      ]
     },
     "metadata": {
      "needs_background": "light"
     },
     "output_type": "display_data"
    }
   ],
   "source": [
    "poly = interpolate_polynomial(x_coords, y_coords, 1, np.min(x_coords), np.max(x_coords), \"y = f(x)\")"
   ]
  },
  {
   "cell_type": "markdown",
   "metadata": {},
   "source": [
    "#### Determining the coefficients A and k"
   ]
  },
  {
   "cell_type": "markdown",
   "metadata": {},
   "source": [
    "Equation (3) represents a line equation with argument $ ln\\left[ -ln\\left(c.d.f.\\right)\\right] $, *slope*: $ -\\frac{1}{k} $, and *intercept*: $ ln(A) $. \n",
    "\n",
    "The line coefficients from the polynomial interpolation method are found to be: *slope* $ m = -0.060 $, and *intercept* $ c = 4.899 $. \n",
    "Thus, we can derive from the above and eq.(3):\n",
    "$$ A = exp\\,(c) \\;\\;\\;\\;\\; (4) $$ \n",
    "and $$ k = -\\,\\frac{1}{m} \\;\\;\\;\\;\\; (5) $$\n",
    "Thus:"
   ]
  },
  {
   "cell_type": "code",
   "execution_count": 23,
   "metadata": {},
   "outputs": [
    {
     "name": "stdout",
     "output_type": "stream",
     "text": [
      "coeff. A = 134.19539499966243\n",
      "coeff. k = 16.629954628165546\n"
     ]
    }
   ],
   "source": [
    "a_coeff = np.exp(c_coeff)\n",
    "print(f\"coeff. A = {a_coeff}\")\n",
    "k_coeff = -1 / m_coeff\n",
    "print(f\"coeff. k = {k_coeff}\")"
   ]
  },
  {
   "cell_type": "markdown",
   "metadata": {},
   "source": [
    "### Determining c.d.f. and p.d.f. of the Fréchet distribution"
   ]
  },
  {
   "cell_type": "markdown",
   "metadata": {},
   "source": [
    "Having the coefficients **A** and **k**, the main distribution functions can be found: **p.d.f.** - from eq.(2), and **c.d.f.** - from eq.(1)."
   ]
  },
  {
   "cell_type": "markdown",
   "metadata": {},
   "source": [
    "#### p.d.f."
   ]
  },
  {
   "cell_type": "code",
   "execution_count": 24,
   "metadata": {},
   "outputs": [],
   "source": [
    "def calculate_pdf(x_array, a, k):\n",
    "    pdf_function = k / a * ((x_array / a)**(-1 - k)) * np.exp(-(x_array /a)**(-k))\n",
    "    return pdf_function"
   ]
  },
  {
   "cell_type": "code",
   "execution_count": 25,
   "metadata": {},
   "outputs": [],
   "source": [
    "pdf_bin = calculate_pdf(x_bin, a_coeff, k_coeff)\n",
    "# pdf_bin"
   ]
  },
  {
   "cell_type": "code",
   "execution_count": 26,
   "metadata": {},
   "outputs": [
    {
     "data": {
      "text/html": [
       "<div>\n",
       "<style scoped>\n",
       "    .dataframe tbody tr th:only-of-type {\n",
       "        vertical-align: middle;\n",
       "    }\n",
       "\n",
       "    .dataframe tbody tr th {\n",
       "        vertical-align: top;\n",
       "    }\n",
       "\n",
       "    .dataframe thead th {\n",
       "        text-align: right;\n",
       "    }\n",
       "</style>\n",
       "<table border=\"1\" class=\"dataframe\">\n",
       "  <thead>\n",
       "    <tr style=\"text-align: right;\">\n",
       "      <th></th>\n",
       "      <th>0</th>\n",
       "      <th>1</th>\n",
       "      <th>2</th>\n",
       "      <th>3</th>\n",
       "      <th>4</th>\n",
       "      <th>5</th>\n",
       "      <th>6</th>\n",
       "      <th>7</th>\n",
       "      <th>8</th>\n",
       "      <th>9</th>\n",
       "    </tr>\n",
       "  </thead>\n",
       "  <tbody>\n",
       "    <tr>\n",
       "      <th>pdf</th>\n",
       "      <td>5.834526e-12</td>\n",
       "      <td>0.00001</td>\n",
       "      <td>0.002865</td>\n",
       "      <td>0.024308</td>\n",
       "      <td>0.044471</td>\n",
       "      <td>0.041409</td>\n",
       "      <td>0.028553</td>\n",
       "      <td>0.01726</td>\n",
       "      <td>0.009889</td>\n",
       "      <td>0.005571</td>\n",
       "    </tr>\n",
       "  </tbody>\n",
       "</table>\n",
       "</div>"
      ],
      "text/plain": [
       "                0        1         2         3         4         5         6  \\\n",
       "pdf  5.834526e-12  0.00001  0.002865  0.024308  0.044471  0.041409  0.028553   \n",
       "\n",
       "           7         8         9  \n",
       "pdf  0.01726  0.009889  0.005571  "
      ]
     },
     "execution_count": 26,
     "metadata": {},
     "output_type": "execute_result"
    }
   ],
   "source": [
    "# Table 'calculated' is created:\n",
    "calculated = pd.DataFrame()\n",
    "\n",
    "calculated[\"pdf\"] = pdf_bin\n",
    "calculated.T"
   ]
  },
  {
   "cell_type": "markdown",
   "metadata": {},
   "source": [
    "The Fréchet p.d.f. is visualised below."
   ]
  },
  {
   "cell_type": "code",
   "execution_count": 27,
   "metadata": {},
   "outputs": [
    {
     "data": {
      "image/png": "[encoded data removed]",
      "text/plain": [
       "<Figure size 432x288 with 1 Axes>"
      ]
     },
     "metadata": {
      "needs_background": "light"
     },
     "output_type": "display_data"
    }
   ],
   "source": [
    "# Plot of p.d.f.:\n",
    "x_plot = np.linspace(100, 170, 70)\n",
    "pdf_70 = calculate_pdf(x_plot, a_coeff, k_coeff)  # length = 70\n",
    "\n",
    "plt.plot(x_plot, pdf_70, c='r')\n",
    "plt.title(\"p.d.f.\\n(Fréchet distribution)\", fontsize=14)\n",
    "plt.xlabel(\"X: annual highest sea levels, [cm]\", fontsize=13)\n",
    "plt.ylabel(\"p.d.f.(X), [-]\", fontsize=13)\n",
    "plt.show()"
   ]
  },
  {
   "cell_type": "markdown",
   "metadata": {},
   "source": [
    "Determining the c.d.f., it is recommended to consider its confidence limits (the lower and upper ones), also called **confidence belt**. In [5], the author uses the Student’s distribution value **t** to derive the formulas for the confidence limits. The value *t* corresponds to the level of certainty; when the count of observations **N** (the records of the annual sea levels) is more than 10, the **t**-value for 90% certainty is close to 1.7. For the exact **t**-value, a special tool *t-Tester Calculator* (freeware) can be used (https://www.waterlog.info/t-tester.htm )."
   ]
  },
  {
   "cell_type": "markdown",
   "metadata": {},
   "source": [
    "The proposed formulas are as follows:\n",
    "\n",
    "    The lower confidence limit:\n",
    "$$ (c.d.f.)_{lower} = \\left[(c.d.f.) - 2\\,t.(c.d.f.)\\sqrt{(c.d.f.).\\left(\\frac{1-c.d.f.}{N}\\right)}\\right] \\;\\;\\; (6) $$\n",
    "\n",
    "    The upper confidence limit:\n",
    "$$ (c.d.f.)_{upper} = \\left[(c.d.f.) + 2\\,t.(1 - c.d.f.)\\sqrt{(c.d.f.).\\left(\\frac{1-c.d.f.}{N}\\right)}\\right] \\;\\;\\; (7) $$\n",
    "\n",
    "The calculated function values are inserted in a new table."
   ]
  },
  {
   "cell_type": "code",
   "execution_count": 28,
   "metadata": {},
   "outputs": [],
   "source": [
    "t_value = 1.7"
   ]
  },
  {
   "cell_type": "code",
   "execution_count": 29,
   "metadata": {},
   "outputs": [],
   "source": [
    "def calculate_cdf(x_array, a, k):\n",
    "    cdf_function = np.exp(-((x_array / a)**(-k)))\n",
    "    return cdf_function"
   ]
  },
  {
   "cell_type": "code",
   "execution_count": 30,
   "metadata": {},
   "outputs": [],
   "source": [
    "cdf_bin = calculate_cdf(x_bin, a_coeff, k_coeff)  # length = 10\n",
    "calculated[\"c.d.f.\"] = cdf_bin\n",
    "# calculated.T"
   ]
  },
  {
   "cell_type": "markdown",
   "metadata": {},
   "source": [
    "The Fréchet c.d.f. can be visualised as follows."
   ]
  },
  {
   "cell_type": "code",
   "execution_count": 31,
   "metadata": {},
   "outputs": [
    {
     "data": {
      "image/png": "[encoded data removed]",
      "text/plain": [
       "<Figure size 432x288 with 1 Axes>"
      ]
     },
     "metadata": {
      "needs_background": "light"
     },
     "output_type": "display_data"
    }
   ],
   "source": [
    "x_plot = np.linspace(100, 170, 70)\n",
    "cdf_70 = calculate_cdf(x_plot, a_coeff, k_coeff)  # length = 70\n",
    "\n",
    "# Scatter plot:\n",
    "plt.scatter(x_bin, cdf_bin, label='c.d.f. (for bins)', c='b')\n",
    "# Plot:\n",
    "plt.plot(x_plot, cdf_70, label='c.d.f. (function)', c='r')\n",
    "\n",
    "plt.title(f\"Calculated c.d.f.\\n(Fréchet distribution)\", fontsize=13)\n",
    "plt.xlabel(\"X: annual highest sea levels, [cm]\", fontsize=12)\n",
    "plt.ylabel(\"c.d.f.(X), [-]\", fontsize=12)\n",
    "plt.legend(loc='upper left', fontsize=12)\n",
    "plt.show()"
   ]
  },
  {
   "cell_type": "markdown",
   "metadata": {},
   "source": [
    "The confidence belt of the c.d.f. (the upper and lower limits) is calculated below. It should be underlined that the confidence level depends on the Student’s *t*-value; in our case, $ t = 1.7 $ is assigned, which corresponds to a 90% confidence level (see the explications above)."
   ]
  },
  {
   "cell_type": "code",
   "execution_count": 32,
   "metadata": {},
   "outputs": [],
   "source": [
    "def calculate_cdf_limits(cdf):\n",
    "    ''' This function calculates the c.d.f. confidence limits with level of confidence \n",
    "    dependeng on this one of the 't-value' '''\n",
    "    cdf_lower = cdf - 2 * t_value * cdf * np.sqrt(cdf * (1 - cdf) / events)\n",
    "    cdf_upper = cdf + 2 * t_value * (1 - cdf) * np.sqrt(cdf * (1 - cdf) / events)\n",
    "    return (cdf_lower, cdf_upper)"
   ]
  },
  {
   "cell_type": "code",
   "execution_count": 33,
   "metadata": {},
   "outputs": [],
   "source": [
    "cdf_low_bin = calculate_cdf_limits(cdf_bin)[0]  # length = 10\n",
    "# print(cdf_low_bin)\n",
    "cdf_up_bin = calculate_cdf_limits(cdf_bin)[1]  # length = 10\n",
    "# print(cdf_up_bin)"
   ]
  },
  {
   "cell_type": "code",
   "execution_count": 34,
   "metadata": {},
   "outputs": [
    {
     "data": {
      "text/html": [
       "<div>\n",
       "<style scoped>\n",
       "    .dataframe tbody tr th:only-of-type {\n",
       "        vertical-align: middle;\n",
       "    }\n",
       "\n",
       "    .dataframe tbody tr th {\n",
       "        vertical-align: top;\n",
       "    }\n",
       "\n",
       "    .dataframe thead th {\n",
       "        text-align: right;\n",
       "    }\n",
       "</style>\n",
       "<table border=\"1\" class=\"dataframe\">\n",
       "  <thead>\n",
       "    <tr style=\"text-align: right;\">\n",
       "      <th></th>\n",
       "      <th>0</th>\n",
       "      <th>1</th>\n",
       "      <th>2</th>\n",
       "      <th>3</th>\n",
       "      <th>4</th>\n",
       "      <th>5</th>\n",
       "      <th>6</th>\n",
       "      <th>7</th>\n",
       "      <th>8</th>\n",
       "      <th>9</th>\n",
       "    </tr>\n",
       "  </thead>\n",
       "  <tbody>\n",
       "    <tr>\n",
       "      <th>pdf</th>\n",
       "      <td>5.834526e-12</td>\n",
       "      <td>0.000010</td>\n",
       "      <td>0.002865</td>\n",
       "      <td>0.024308</td>\n",
       "      <td>0.044471</td>\n",
       "      <td>0.041409</td>\n",
       "      <td>0.028553</td>\n",
       "      <td>0.017260</td>\n",
       "      <td>0.009889</td>\n",
       "      <td>0.005571</td>\n",
       "    </tr>\n",
       "    <tr>\n",
       "      <th>c.d.f.</th>\n",
       "      <td>1.414474e-12</td>\n",
       "      <td>0.000005</td>\n",
       "      <td>0.003728</td>\n",
       "      <td>0.069253</td>\n",
       "      <td>0.268307</td>\n",
       "      <td>0.513106</td>\n",
       "      <td>0.706404</td>\n",
       "      <td>0.830645</td>\n",
       "      <td>0.903620</td>\n",
       "      <td>0.945027</td>\n",
       "    </tr>\n",
       "    <tr>\n",
       "      <th>c.d.f._lower</th>\n",
       "      <td>1.414473e-12</td>\n",
       "      <td>0.000005</td>\n",
       "      <td>0.003621</td>\n",
       "      <td>0.060963</td>\n",
       "      <td>0.212255</td>\n",
       "      <td>0.392184</td>\n",
       "      <td>0.554723</td>\n",
       "      <td>0.683753</td>\n",
       "      <td>0.777887</td>\n",
       "      <td>0.843468</td>\n",
       "    </tr>\n",
       "    <tr>\n",
       "      <th>c.d.f._upper</th>\n",
       "      <td>5.607585e-07</td>\n",
       "      <td>0.001106</td>\n",
       "      <td>0.032356</td>\n",
       "      <td>0.180668</td>\n",
       "      <td>0.421164</td>\n",
       "      <td>0.627851</td>\n",
       "      <td>0.769446</td>\n",
       "      <td>0.860594</td>\n",
       "      <td>0.917030</td>\n",
       "      <td>0.950935</td>\n",
       "    </tr>\n",
       "  </tbody>\n",
       "</table>\n",
       "</div>"
      ],
      "text/plain": [
       "                         0         1         2         3         4         5  \\\n",
       "pdf           5.834526e-12  0.000010  0.002865  0.024308  0.044471  0.041409   \n",
       "c.d.f.        1.414474e-12  0.000005  0.003728  0.069253  0.268307  0.513106   \n",
       "c.d.f._lower  1.414473e-12  0.000005  0.003621  0.060963  0.212255  0.392184   \n",
       "c.d.f._upper  5.607585e-07  0.001106  0.032356  0.180668  0.421164  0.627851   \n",
       "\n",
       "                     6         7         8         9  \n",
       "pdf           0.028553  0.017260  0.009889  0.005571  \n",
       "c.d.f.        0.706404  0.830645  0.903620  0.945027  \n",
       "c.d.f._lower  0.554723  0.683753  0.777887  0.843468  \n",
       "c.d.f._upper  0.769446  0.860594  0.917030  0.950935  "
      ]
     },
     "execution_count": 34,
     "metadata": {},
     "output_type": "execute_result"
    }
   ],
   "source": [
    "calculated[\"c.d.f._lower\"] = cdf_low_bin\n",
    "calculated[\"c.d.f._upper\"] = cdf_up_bin\n",
    "calculated.T"
   ]
  },
  {
   "cell_type": "markdown",
   "metadata": {},
   "source": [
    "The Fréchet c.d.f. and its confidence belt is visualised below."
   ]
  },
  {
   "cell_type": "code",
   "execution_count": 35,
   "metadata": {},
   "outputs": [],
   "source": [
    "x_cdf = np.linspace(100, 200, 100)\n",
    "cdf_func = calculate_cdf(x_cdf, a_coeff, k_coeff)\n",
    "cdf_low = calculate_cdf_limits(cdf_func)[0]  # length = 100\n",
    "cdf_up = calculate_cdf_limits(cdf_func)[1]\n",
    "\n",
    "# plot_function_and_limits(x=x_cdf, func=cdf_func, func_low=cdf_low, func_up=cdf_up, inp_color='green', inp_label=\"c.d.f.\")"
   ]
  },
  {
   "cell_type": "code",
   "execution_count": 36,
   "metadata": {},
   "outputs": [],
   "source": [
    "def plot_function_limits_and_scatter(x, func, func_low, func_up, scatter_ar, inp_color, inp_label=''):\n",
    "    plt.figure(figsize = (7, 5))\n",
    "    plt.plot(x, func, label=inp_label, color=inp_color, lw='2.8')  # the ‘label name’ is for the Legend\n",
    "    plt.plot(x, func_low, label=f'{inp_label} lower limit', color=inp_color, ls=':')\n",
    "    plt.plot(x, func_up, label=f'{inp_label} upper limit', color=inp_color, ls='-.')\n",
    "    \n",
    "    plt.scatter(x_bin, scatter_ar, c='black', label=f'{inp_label} for bins')  # a scatter plot with X, Y, color\n",
    "    \n",
    "    plt.title(f'{inp_label} with its confidence limits\\n(Fréchet distribution)', fontsize=14)\n",
    "    plt.xlabel('X: annual highest sea levels, [cm]', fontsize=14)\n",
    "    plt.ylabel(f'{inp_label}, [-]', fontsize=14)\n",
    "    plt.legend(loc='upper left', fontsize=12)  # legend's location\n",
    "    plt.show()"
   ]
  },
  {
   "cell_type": "code",
   "execution_count": 37,
   "metadata": {},
   "outputs": [
    {
     "data": {
      "image/png": "[encoded data removed]",
      "text/plain": [
       "<Figure size 504x360 with 1 Axes>"
      ]
     },
     "metadata": {
      "needs_background": "light"
     },
     "output_type": "display_data"
    }
   ],
   "source": [
    "# Plot c.d.f. and its confidence belt:\n",
    "scatter_ar = cdf_bin\n",
    "plot_function_limits_and_scatter(x=x_cdf, func=cdf_func, func_low=cdf_low, func_up=cdf_up, scatter_ar= cdf_bin, \n",
    "                                 inp_color='g', inp_label=\"c.d.f.\")"
   ]
  },
  {
   "cell_type": "markdown",
   "metadata": {},
   "source": [
    "### Comparison with the Ranked c.d.f. (Weibull formula)"
   ]
  },
  {
   "cell_type": "markdown",
   "metadata": {},
   "source": [
    "A classical method for calculating the c.d.f. is using the so-called “plotting position” formula, in which one of the arguments is the \"**rank**\" of the variable (*X-values*) in descending order, i.e. *rank* = 1 for the maximum value of *X* and so on up to the minimum *X* equal to the number of records (events) **N** for the input sample. The Coastal Engineering Manual [3] proposes the use of the **Weibull plotting position formula** for the NON-Exceedance probability (c.d.f.) \"*because it is analytically simple and intuitively easily understood*\":\n",
    "$$ c.d.f. = 1 -\\,\\frac{r}{N + 1} \\;\\;\\;\\;\\; (8) $$\n",
    ", where **r** is the rank of the variable **X** in descending order."
   ]
  },
  {
   "cell_type": "markdown",
   "metadata": {},
   "source": [
    "Oosterbaan, R.J. describes the procedure of applying this formula in his \"*Frequency analysis by Ranking of data*\" [6]. For ranking in descending order, the suggested steps are as follows:\n",
    "- Ranking the total number of the input data **N** in descending order according to their values *X*, the highest value first and the lowest value last;\n",
    "- Assigning a serial number **r** to each value $X\\,(X_r\\, ,\\, r = 1, 2, 3 ,..., n\\,)$, the highest value being $X_1$ and the lowest being $X_n$ ;\n",
    "- Dividing the rank **r** by the total number of observations plus 1 to obtain the **frequency of exceedance**.\n",
    "Consequently, the **c.d.f.** is the **frequency of NON-exceedance**, which is:\n",
    "\n",
    "$$ c.d.f. = 1 -\\,Probability\\: of\\: Exceedance \\;\\;\\;\\;\\; (9) $$"
   ]
  },
  {
   "cell_type": "markdown",
   "metadata": {},
   "source": [
    "The result of the comparison of the calculated c.d.f. with the \"ranked\" c.d.f. is present in this section."
   ]
  },
  {
   "cell_type": "code",
   "execution_count": 38,
   "metadata": {},
   "outputs": [],
   "source": [
    "high_levels\n",
    "ranked_levels = sorted(high_levels)  # <class 'list'>\n",
    "\n",
    "cdf_rank = []\n",
    "for i in range(len(ranked_levels)):\n",
    "    rank = (events - i)\n",
    "    cdf_rank.append(1 - rank / (events + 1))\n",
    "# cdf_rank"
   ]
  },
  {
   "cell_type": "code",
   "execution_count": 39,
   "metadata": {},
   "outputs": [],
   "source": [
    "# the calculated c.d.f. with its confidence belt:\n",
    "x_pl = ranked_levels\n",
    "# print(x_pl)\n",
    "cdf_pl = calculate_cdf(x_pl, a_coeff, k_coeff)\n",
    "cdf_low_pl = calculate_cdf_limits(cdf_pl)[0]\n",
    "cdf_up_pl = calculate_cdf_limits(cdf_pl)[1]"
   ]
  },
  {
   "cell_type": "code",
   "execution_count": 40,
   "metadata": {},
   "outputs": [
    {
     "data": {
      "image/png": "[encoded data removed]",
      "text/plain": [
       "<Figure size 432x288 with 1 Axes>"
      ]
     },
     "metadata": {
      "needs_background": "light"
     },
     "output_type": "display_data"
    }
   ],
   "source": [
    "# Plotting the calculated and the \"ranked\" c.d.f.:\n",
    "inp_label = \"c.d.f.\"\n",
    "plt.plot(x_pl, cdf_pl, label=f'{inp_label} (calculated)', color=\"g\", lw='2.8')\n",
    "plt.plot(x_pl, cdf_low_pl, label=f'{inp_label} lower limit', color=\"g\", ls=':')\n",
    "plt.plot(x_pl, cdf_up_pl, label=f'{inp_label} upper limit', color=\"g\", ls='-.')\n",
    "\n",
    "plt.scatter(x_pl, cdf_rank, c='m', lw='0', label=f'Ranked {inp_label}')  # a scatter plot\n",
    "\n",
    "plt.title('Calculated vs. Ranked c.d.f.', fontsize=14)\n",
    "plt.xlabel('X: annual highest sea levels, [cm]', fontsize=13)\n",
    "plt.ylabel(f'{inp_label}, [-]', fontsize=13)\n",
    "plt.legend(loc='lower right')  # legend's location\n",
    "plt.show()"
   ]
  },
  {
   "cell_type": "markdown",
   "metadata": {},
   "source": [
    "It should be noted that the *Ranked* method can be applied only for already known (recorded) data and *cannot be used for future prediction* of extreme events (let say, the Highest sea levels)."
   ]
  },
  {
   "cell_type": "markdown",
   "metadata": {},
   "source": [
    "### Return period, Tr"
   ]
  },
  {
   "cell_type": "markdown",
   "metadata": {},
   "source": [
    "The **Return period** (also called **recurrence interval**) is the average period of time between occurrences of a given event. It is a very important characteristic in the analysis of sea/ocean phenomena when the event (wave height, sea storm, water level) is extreme."
   ]
  },
  {
   "cell_type": "markdown",
   "metadata": {},
   "source": [
    "According to [6], the **Return period** is calculated as:\n",
    "$$ T_r = \\frac{1}{1 - c.d.f.} \\;\\;\\;\\;\\; (10) $$\n",
    ", where $T_r$ is found in years."
   ]
  },
  {
   "cell_type": "code",
   "execution_count": 41,
   "metadata": {},
   "outputs": [],
   "source": [
    "def calculate_t_r(cdf):\n",
    "    t_r_function = 1 / (1 - cdf)\n",
    "    return t_r_function"
   ]
  },
  {
   "cell_type": "code",
   "execution_count": 42,
   "metadata": {},
   "outputs": [],
   "source": [
    "t_r_bin = calculate_t_r(cdf_bin)  # t_r_bin = 1 / (1 - cdf_bin)\n",
    "# t_r_bin\n",
    "calculated[\"Tr_years\"] = t_r_bin\n",
    "# Shorten decimal precision in the DataFrame:\n",
    "calculated[\"Tr_years\"] = calculated[\"Tr_years\"].map(lambda x: \"{:,.1f}\".format(x))\n",
    "# calculated.T"
   ]
  },
  {
   "cell_type": "markdown",
   "metadata": {},
   "source": [
    "#### The confidence belt of the Return period"
   ]
  },
  {
   "cell_type": "markdown",
   "metadata": {},
   "source": [
    "Oosterbaan, R.J. proposes the following formulas for the lower and upper limits of the Return period, [5]:\n",
    "\n",
    "$$ Tr_{lower} = \\left[Tr-0.33\\,\\left(\\frac{1}{1-(c.d.f.)_{upper}}-\\frac{1}{1-(c.d.f.)_{lower}}\\right)\\right] \\;\\;\\;\\;\\; (11) $$\n",
    "\n",
    "$$ Tr_{upper} = \\left[Tr+0.67\\,\\left(\\frac{1}{1-(c.d.f.)_{upper}}-\\frac{1}{1-(c.d.f.)_{lower}}\\right)\\right] \\;\\;\\;\\;\\; (12) $$\n",
    "\n"
   ]
  },
  {
   "cell_type": "code",
   "execution_count": 43,
   "metadata": {},
   "outputs": [],
   "source": [
    "def calculate_t_r_limits(t_r, cdf_low, cdf_up):\n",
    "    # Tr_lower for the min treshold (X_bin)\n",
    "    t_r_lower = t_r - 0.33 * (1 / (1 - cdf_up) - 1 / (1 - cdf_low))  # t_r_low\n",
    "    t_r_upper = t_r + 0.67 * (1 / (1 - cdf_up) - 1 / (1 - cdf_low))  # t_r_up\n",
    "    return (t_r_lower, t_r_upper)"
   ]
  },
  {
   "cell_type": "code",
   "execution_count": 44,
   "metadata": {},
   "outputs": [],
   "source": [
    "# Tr_lower for the min treshold (X_bin):\n",
    "t_r_low_bin = calculate_t_r_limits(t_r_bin, cdf_low_bin, cdf_up_bin)[0]\n",
    "# t_r_low_bin = t_r_bin - 0.33 * (1 / (1 - cdf_up_bin) - 1 / (1 - cdf_low_bin))\n",
    "t_r_up_bin = calculate_t_r_limits(t_r_bin, cdf_low_bin, cdf_up_bin)[1]\n",
    "# t_r_up_bin = t_r_bin + 0.67 * (1 / (1 - cdf_up_bin) - 1 / (1 - cdf_low_bin))"
   ]
  },
  {
   "cell_type": "code",
   "execution_count": 45,
   "metadata": {},
   "outputs": [
    {
     "data": {
      "text/html": [
       "<div>\n",
       "<style scoped>\n",
       "    .dataframe tbody tr th:only-of-type {\n",
       "        vertical-align: middle;\n",
       "    }\n",
       "\n",
       "    .dataframe tbody tr th {\n",
       "        vertical-align: top;\n",
       "    }\n",
       "\n",
       "    .dataframe thead th {\n",
       "        text-align: right;\n",
       "    }\n",
       "</style>\n",
       "<table border=\"1\" class=\"dataframe\">\n",
       "  <thead>\n",
       "    <tr style=\"text-align: right;\">\n",
       "      <th></th>\n",
       "      <th>0</th>\n",
       "      <th>1</th>\n",
       "      <th>2</th>\n",
       "      <th>3</th>\n",
       "      <th>4</th>\n",
       "      <th>5</th>\n",
       "      <th>6</th>\n",
       "      <th>7</th>\n",
       "      <th>8</th>\n",
       "      <th>9</th>\n",
       "    </tr>\n",
       "  </thead>\n",
       "  <tbody>\n",
       "    <tr>\n",
       "      <th>pdf</th>\n",
       "      <td>5.83453e-12</td>\n",
       "      <td>9.50169e-06</td>\n",
       "      <td>0.00286523</td>\n",
       "      <td>0.0243079</td>\n",
       "      <td>0.0444714</td>\n",
       "      <td>0.0414094</td>\n",
       "      <td>0.0285527</td>\n",
       "      <td>0.0172603</td>\n",
       "      <td>0.0098893</td>\n",
       "      <td>0.00557114</td>\n",
       "    </tr>\n",
       "    <tr>\n",
       "      <th>c.d.f.</th>\n",
       "      <td>1.41447e-12</td>\n",
       "      <td>5.44448e-06</td>\n",
       "      <td>0.00372821</td>\n",
       "      <td>0.0692528</td>\n",
       "      <td>0.268307</td>\n",
       "      <td>0.513106</td>\n",
       "      <td>0.706404</td>\n",
       "      <td>0.830645</td>\n",
       "      <td>0.90362</td>\n",
       "      <td>0.945027</td>\n",
       "    </tr>\n",
       "    <tr>\n",
       "      <th>c.d.f._lower</th>\n",
       "      <td>1.41447e-12</td>\n",
       "      <td>5.43849e-06</td>\n",
       "      <td>0.00362108</td>\n",
       "      <td>0.0609629</td>\n",
       "      <td>0.212255</td>\n",
       "      <td>0.392184</td>\n",
       "      <td>0.554723</td>\n",
       "      <td>0.683753</td>\n",
       "      <td>0.777887</td>\n",
       "      <td>0.843468</td>\n",
       "    </tr>\n",
       "    <tr>\n",
       "      <th>c.d.f._upper</th>\n",
       "      <td>5.60758e-07</td>\n",
       "      <td>0.00110559</td>\n",
       "      <td>0.0323564</td>\n",
       "      <td>0.180668</td>\n",
       "      <td>0.421164</td>\n",
       "      <td>0.627851</td>\n",
       "      <td>0.769446</td>\n",
       "      <td>0.860594</td>\n",
       "      <td>0.91703</td>\n",
       "      <td>0.950935</td>\n",
       "    </tr>\n",
       "    <tr>\n",
       "      <th>Tr_years</th>\n",
       "      <td>1.0</td>\n",
       "      <td>1.0</td>\n",
       "      <td>1.0</td>\n",
       "      <td>1.1</td>\n",
       "      <td>1.4</td>\n",
       "      <td>2.1</td>\n",
       "      <td>3.4</td>\n",
       "      <td>5.9</td>\n",
       "      <td>10.4</td>\n",
       "      <td>18.2</td>\n",
       "    </tr>\n",
       "    <tr>\n",
       "      <th>Tr_lower</th>\n",
       "      <td>1.0</td>\n",
       "      <td>1.0</td>\n",
       "      <td>1.0</td>\n",
       "      <td>1.0</td>\n",
       "      <td>1.2</td>\n",
       "      <td>1.7</td>\n",
       "      <td>2.7</td>\n",
       "      <td>4.6</td>\n",
       "      <td>7.9</td>\n",
       "      <td>13.6</td>\n",
       "    </tr>\n",
       "    <tr>\n",
       "      <th>Tr_upper</th>\n",
       "      <td>1.0</td>\n",
       "      <td>1.0</td>\n",
       "      <td>1.0</td>\n",
       "      <td>1.2</td>\n",
       "      <td>1.7</td>\n",
       "      <td>2.8</td>\n",
       "      <td>4.8</td>\n",
       "      <td>8.6</td>\n",
       "      <td>15.4</td>\n",
       "      <td>27.6</td>\n",
       "    </tr>\n",
       "  </tbody>\n",
       "</table>\n",
       "</div>"
      ],
      "text/plain": [
       "                        0            1           2          3          4  \\\n",
       "pdf           5.83453e-12  9.50169e-06  0.00286523  0.0243079  0.0444714   \n",
       "c.d.f.        1.41447e-12  5.44448e-06  0.00372821  0.0692528   0.268307   \n",
       "c.d.f._lower  1.41447e-12  5.43849e-06  0.00362108  0.0609629   0.212255   \n",
       "c.d.f._upper  5.60758e-07   0.00110559   0.0323564   0.180668   0.421164   \n",
       "Tr_years              1.0          1.0         1.0        1.1        1.4   \n",
       "Tr_lower              1.0          1.0         1.0        1.0        1.2   \n",
       "Tr_upper              1.0          1.0         1.0        1.2        1.7   \n",
       "\n",
       "                      5          6          7          8           9  \n",
       "pdf           0.0414094  0.0285527  0.0172603  0.0098893  0.00557114  \n",
       "c.d.f.         0.513106   0.706404   0.830645    0.90362    0.945027  \n",
       "c.d.f._lower   0.392184   0.554723   0.683753   0.777887    0.843468  \n",
       "c.d.f._upper   0.627851   0.769446   0.860594    0.91703    0.950935  \n",
       "Tr_years            2.1        3.4        5.9       10.4        18.2  \n",
       "Tr_lower            1.7        2.7        4.6        7.9        13.6  \n",
       "Tr_upper            2.8        4.8        8.6       15.4        27.6  "
      ]
     },
     "execution_count": 45,
     "metadata": {},
     "output_type": "execute_result"
    }
   ],
   "source": [
    "calculated[\"Tr_lower\"] = t_r_low_bin\n",
    "calculated[\"Tr_upper\"] = t_r_up_bin\n",
    "# Shorten decimal precision in the DataFrame:\n",
    "calculated[\"Tr_lower\"] = calculated[\"Tr_lower\"].map(lambda x: \"{:,.1f}\".format(x))\n",
    "# Shorten decimal precision in the DataFrame:\n",
    "calculated[\"Tr_upper\"] = calculated[\"Tr_upper\"].map(lambda x: \"{:,.1f}\".format(x))\n",
    "\n",
    "calculated.T"
   ]
  },
  {
   "cell_type": "markdown",
   "metadata": {},
   "source": [
    "The Return period graph with its confidence belt is plotted below. For comparison, the scatter plot of the calculated bin values from the grouped observed data is added there."
   ]
  },
  {
   "cell_type": "code",
   "execution_count": 46,
   "metadata": {},
   "outputs": [],
   "source": [
    "# Plot Tr and its confidence belt up to 200 cm Sea level:\n",
    "x_t_r = np.linspace(100, 200, 100)\n",
    "t_r_func = calculate_t_r(cdf_func)\n",
    "t_r_low = calculate_t_r_limits(t_r_func, cdf_low, cdf_up)[0]  # length = 100\n",
    "t_r_up = calculate_t_r_limits(t_r_func, cdf_low, cdf_up)[1]\n",
    "\n",
    "# plot_function_and_limits(x=x_t_r, func=t_r_func, func_low=t_r_low, func_up=t_r_up, inp_color='blue', inp_label=\"Tr\")"
   ]
  },
  {
   "cell_type": "code",
   "execution_count": 47,
   "metadata": {},
   "outputs": [
    {
     "data": {
      "image/png": "[encoded data removed]",
      "text/plain": [
       "<Figure size 504x360 with 1 Axes>"
      ]
     },
     "metadata": {
      "needs_background": "light"
     },
     "output_type": "display_data"
    }
   ],
   "source": [
    "# Plotting Tr (as a scatter plot) of the bins values:\n",
    "plot_function_limits_and_scatter(x=x_t_r, func=t_r_func, func_low=t_r_low, func_up=t_r_up, scatter_ar= t_r_bin, \n",
    "                                 inp_color='b', inp_label=\"Return period Tr\")"
   ]
  },
  {
   "cell_type": "markdown",
   "metadata": {},
   "source": [
    "### The dependence of the Highest Sea Level on the Return period"
   ]
  },
  {
   "cell_type": "markdown",
   "metadata": {},
   "source": [
    "In Engineering practice, it is important to know the design criteria (parameters) as a function of the Return period. In other words, it is significant to predict the extreme values of the variables of interest (for instance, the highest water levels, wave heights, or sea storms/winds) for periods of recurrence of 50, 100, or 200 years. In mathematical meaning, the inverse function: $ X = f(T_r) $ should be determined."
   ]
  },
  {
   "cell_type": "markdown",
   "metadata": {},
   "source": [
    "The above dependence can be derived from equation (10) to be:\n",
    "$$ c.d.f. = 1 - \\frac{1}{T_r} \\;\\;\\;\\;\\; (13) $$"
   ]
  },
  {
   "cell_type": "markdown",
   "metadata": {},
   "source": [
    "Analogically,\n",
    "$$ (c.d.f.)_{lower} = 1 - \\frac{1}{Tr_{lower}} \\;\\;\\;\\;\\; (14) $$\n",
    "and\n",
    "$$ (c.d.f.)_{upper} = 1 - \\frac{1}{Tr_{upper}} \\;\\;\\;\\;\\; (15) $$"
   ]
  },
  {
   "cell_type": "code",
   "execution_count": 48,
   "metadata": {},
   "outputs": [],
   "source": [
    "t_r_year = np.array([1.05, 5, 10, 20, 25, 50, 100, 200])\n",
    "cdf_year = 1 - 1 / t_r_year\n",
    "# cdf_year\n",
    "cdf_low_year = calculate_cdf_limits(cdf_year)[0]\n",
    "# print(cdf_low_year)\n",
    "cdf_up_year = calculate_cdf_limits(cdf_year)[1]\n",
    "# print(cdf_up_year)"
   ]
  },
  {
   "cell_type": "code",
   "execution_count": 49,
   "metadata": {},
   "outputs": [],
   "source": [
    "t_r_low_year = calculate_t_r_limits(t_r_year, cdf_low_year, cdf_up_year)[0]\n",
    "# t_r_low_year\n",
    "t_r_up_year = calculate_t_r_limits(t_r_year, cdf_low_year, cdf_up_year)[1]\n",
    "# t_r_up_year"
   ]
  },
  {
   "cell_type": "code",
   "execution_count": 50,
   "metadata": {},
   "outputs": [],
   "source": [
    "cdf_low_year = 1 - 1 / t_r_low_year\n",
    "# cdf_low_year\n",
    "cdf_up_year = 1 - 1 / t_r_up_year\n",
    "# cdf_up_year"
   ]
  },
  {
   "cell_type": "markdown",
   "metadata": {},
   "source": [
    "From eq.(3) is obvious that\n",
    "$$ x = A\\left[ -ln\\left(c.d.f.\\right)\\right]^{-\\,\\frac{1}{k}} \\;\\;\\;\\;\\; (16) $$\n",
    "and, respectively:\n",
    "$$ x_{lower} = A\\left[ -ln\\left((c.d.f.)_{lower}\\right)\\right]^{-\\,\\frac{1}{k}} \\;\\;\\;\\;\\; (17) $$\n",
    "\n",
    "$$ x_{upper} = A\\left[ -ln\\left((c.d.f.)_{upper}\\right)\\right]^{-\\,\\frac{1}{k}} \\;\\;\\;\\;\\; (18) $$"
   ]
  },
  {
   "cell_type": "code",
   "execution_count": 51,
   "metadata": {},
   "outputs": [],
   "source": [
    "x_year = a_coeff * (-np.log(cdf_year))**(-1 / k_coeff)\n",
    "# x_year\n",
    "x_low_year = a_coeff * (-np.log(cdf_low_year))**(-1 / k_coeff)\n",
    "# x_low_year\n",
    "x_up_year = a_coeff * (-np.log(cdf_up_year))**(-1 / k_coeff)\n",
    "# x_up_year"
   ]
  },
  {
   "cell_type": "markdown",
   "metadata": {},
   "source": [
    "Now, we can show the calculated **Highest Sea levels**, [cm] (with their confidence limits at a 90% confidence level) as function of the **Return period** $ T_r $, [year]."
   ]
  },
  {
   "cell_type": "code",
   "execution_count": 52,
   "metadata": {},
   "outputs": [
    {
     "data": {
      "text/html": [
       "<div>\n",
       "<style scoped>\n",
       "    .dataframe tbody tr th:only-of-type {\n",
       "        vertical-align: middle;\n",
       "    }\n",
       "\n",
       "    .dataframe tbody tr th {\n",
       "        vertical-align: top;\n",
       "    }\n",
       "\n",
       "    .dataframe thead th {\n",
       "        text-align: right;\n",
       "    }\n",
       "</style>\n",
       "<table border=\"1\" class=\"dataframe\">\n",
       "  <thead>\n",
       "    <tr style=\"text-align: right;\">\n",
       "      <th></th>\n",
       "      <th>0</th>\n",
       "      <th>1</th>\n",
       "      <th>2</th>\n",
       "      <th>3</th>\n",
       "      <th>4</th>\n",
       "      <th>5</th>\n",
       "      <th>6</th>\n",
       "      <th>7</th>\n",
       "    </tr>\n",
       "  </thead>\n",
       "  <tbody>\n",
       "    <tr>\n",
       "      <th>Tr, [y.]</th>\n",
       "      <td>1.1</td>\n",
       "      <td>5.0</td>\n",
       "      <td>10.0</td>\n",
       "      <td>20.0</td>\n",
       "      <td>25.0</td>\n",
       "      <td>50.0</td>\n",
       "      <td>100.0</td>\n",
       "      <td>200.0</td>\n",
       "    </tr>\n",
       "    <tr>\n",
       "      <th>Tr_lower, [y.]</th>\n",
       "      <td>1.0</td>\n",
       "      <td>3.9</td>\n",
       "      <td>7.6</td>\n",
       "      <td>14.9</td>\n",
       "      <td>18.5</td>\n",
       "      <td>36.2</td>\n",
       "      <td>71.2</td>\n",
       "      <td>140.4</td>\n",
       "    </tr>\n",
       "    <tr>\n",
       "      <th>Tr_upper, [y.]</th>\n",
       "      <td>1.1</td>\n",
       "      <td>7.2</td>\n",
       "      <td>14.9</td>\n",
       "      <td>30.4</td>\n",
       "      <td>38.2</td>\n",
       "      <td>78.0</td>\n",
       "      <td>158.4</td>\n",
       "      <td>321.0</td>\n",
       "    </tr>\n",
       "    <tr>\n",
       "      <th>c.d.f., [-]</th>\n",
       "      <td>0.047619</td>\n",
       "      <td>0.8</td>\n",
       "      <td>0.9</td>\n",
       "      <td>0.95</td>\n",
       "      <td>0.96</td>\n",
       "      <td>0.98</td>\n",
       "      <td>0.99</td>\n",
       "      <td>0.995</td>\n",
       "    </tr>\n",
       "    <tr>\n",
       "      <th>cdf_low, [-]</th>\n",
       "      <td>0.00950286</td>\n",
       "      <td>0.744048</td>\n",
       "      <td>0.868561</td>\n",
       "      <td>0.932794</td>\n",
       "      <td>0.945871</td>\n",
       "      <td>0.972399</td>\n",
       "      <td>0.985959</td>\n",
       "      <td>0.992877</td>\n",
       "    </tr>\n",
       "    <tr>\n",
       "      <th>cdf_up, [-]</th>\n",
       "      <td>0.116636</td>\n",
       "      <td>0.86148</td>\n",
       "      <td>0.932688</td>\n",
       "      <td>0.967101</td>\n",
       "      <td>0.973856</td>\n",
       "      <td>0.987172</td>\n",
       "      <td>0.993688</td>\n",
       "      <td>0.996885</td>\n",
       "    </tr>\n",
       "    <tr>\n",
       "      <th>X, [cm]</th>\n",
       "      <td>125.5</td>\n",
       "      <td>146.9</td>\n",
       "      <td>153.6</td>\n",
       "      <td>160.4</td>\n",
       "      <td>162.7</td>\n",
       "      <td>169.7</td>\n",
       "      <td>177.0</td>\n",
       "      <td>184.5</td>\n",
       "    </tr>\n",
       "    <tr>\n",
       "      <th>X_lower, [cm]</th>\n",
       "      <td>122.3</td>\n",
       "      <td>144.4</td>\n",
       "      <td>151.0</td>\n",
       "      <td>157.5</td>\n",
       "      <td>159.7</td>\n",
       "      <td>166.4</td>\n",
       "      <td>173.4</td>\n",
       "      <td>180.6</td>\n",
       "    </tr>\n",
       "    <tr>\n",
       "      <th>X_upper, [cm]</th>\n",
       "      <td>128.2</td>\n",
       "      <td>150.5</td>\n",
       "      <td>157.5</td>\n",
       "      <td>164.6</td>\n",
       "      <td>166.9</td>\n",
       "      <td>174.3</td>\n",
       "      <td>181.9</td>\n",
       "      <td>189.9</td>\n",
       "    </tr>\n",
       "  </tbody>\n",
       "</table>\n",
       "</div>"
      ],
      "text/plain": [
       "                         0         1         2         3         4         5  \\\n",
       "Tr, [y.]               1.1       5.0      10.0      20.0      25.0      50.0   \n",
       "Tr_lower, [y.]         1.0       3.9       7.6      14.9      18.5      36.2   \n",
       "Tr_upper, [y.]         1.1       7.2      14.9      30.4      38.2      78.0   \n",
       "c.d.f., [-]       0.047619       0.8       0.9      0.95      0.96      0.98   \n",
       "cdf_low, [-]    0.00950286  0.744048  0.868561  0.932794  0.945871  0.972399   \n",
       "cdf_up, [-]       0.116636   0.86148  0.932688  0.967101  0.973856  0.987172   \n",
       "X, [cm]              125.5     146.9     153.6     160.4     162.7     169.7   \n",
       "X_lower, [cm]        122.3     144.4     151.0     157.5     159.7     166.4   \n",
       "X_upper, [cm]        128.2     150.5     157.5     164.6     166.9     174.3   \n",
       "\n",
       "                       6         7  \n",
       "Tr, [y.]           100.0     200.0  \n",
       "Tr_lower, [y.]      71.2     140.4  \n",
       "Tr_upper, [y.]     158.4     321.0  \n",
       "c.d.f., [-]         0.99     0.995  \n",
       "cdf_low, [-]    0.985959  0.992877  \n",
       "cdf_up, [-]     0.993688  0.996885  \n",
       "X, [cm]            177.0     184.5  \n",
       "X_lower, [cm]      173.4     180.6  \n",
       "X_upper, [cm]      181.9     189.9  "
      ]
     },
     "execution_count": 52,
     "metadata": {},
     "output_type": "execute_result"
    }
   ],
   "source": [
    "t_r_tab = pd.DataFrame()\n",
    "\n",
    "t_r_tab[\"Tr, [y.]\"] = t_r_year\n",
    "t_r_tab[\"Tr_lower, [y.]\"] = t_r_low_year\n",
    "t_r_tab[\"Tr_upper, [y.]\"] = t_r_up_year\n",
    "t_r_tab[\"c.d.f., [-]\"] = cdf_year\n",
    "t_r_tab[\"cdf_low, [-]\"] = cdf_low_year\n",
    "t_r_tab[\"cdf_up, [-]\"] = cdf_up_year\n",
    "\n",
    "t_r_tab[\"X, [cm]\"] = x_year\n",
    "t_r_tab[\"X_lower, [cm]\"] = x_low_year\n",
    "t_r_tab[\"X_upper, [cm]\"] = x_up_year\n",
    "\n",
    "# Shorten decimal precision in the DataFrame:\n",
    "t_r_tab[\"Tr, [y.]\"] = t_r_tab[\"Tr, [y.]\"].map(lambda x: \"{:,.1f}\".format(x))\n",
    "t_r_tab[\"Tr_lower, [y.]\"] = t_r_tab[\"Tr_lower, [y.]\"].map(lambda x: \"{:,.1f}\".format(x))\n",
    "t_r_tab[\"Tr_upper, [y.]\"] = t_r_tab[\"Tr_upper, [y.]\"].map(lambda x: \"{:,.1f}\".format(x))\n",
    "\n",
    "t_r_tab[\"X, [cm]\"] = t_r_tab[\"X, [cm]\"].map(lambda x: \"{:,.1f}\".format(x))\n",
    "t_r_tab[\"X_lower, [cm]\"] = t_r_tab[\"X_lower, [cm]\"].map(lambda x: \"{:,.1f}\".format(x))\n",
    "t_r_tab[\"X_upper, [cm]\"] = t_r_tab[\"X_upper, [cm]\"].map(lambda x: \"{:,.1f}\".format(x))\n",
    "\n",
    "t_r_tab.T"
   ]
  },
  {
   "cell_type": "markdown",
   "metadata": {},
   "source": [
    "The above results are plotted below. In addition to the calculated values of the *Highest sea levels* as a function of the *Return period*, their “bin” values obtained from the grouped observed data are shown for comparison."
   ]
  },
  {
   "cell_type": "code",
   "execution_count": 53,
   "metadata": {},
   "outputs": [],
   "source": [
    "# Plotting parameters (for X = f(Tr)):\n",
    "t_r_year_pl = np.linspace(1.05, 200, 200)\n",
    "cdf_year_pl = 1 - 1 / t_r_year_pl\n",
    "cdf_low_year_pl = calculate_cdf_limits(cdf_year_pl)[0]\n",
    "cdf_up_year_pl = calculate_cdf_limits(cdf_year_pl)[1]\n",
    "\n",
    "t_r_low_year_pl = calculate_t_r_limits(t_r_year_pl, cdf_low_year_pl, cdf_up_year_pl)[0]\n",
    "t_r_up_year_pl = calculate_t_r_limits(t_r_year_pl, cdf_low_year_pl, cdf_up_year_pl)[1]\n",
    "\n",
    "cdf_low_year_pl = 1 - 1 / t_r_low_year_pl\n",
    "cdf_up_year_pl = 1 - 1 / t_r_up_year_pl\n",
    "\n",
    "x_year_pl = a_coeff * (-np.log(cdf_year_pl))**(-1 / k_coeff)\n",
    "x_low_year_pl = a_coeff * (-np.log(cdf_low_year_pl))**(-1 / k_coeff)\n",
    "x_up_year_pl = a_coeff * (-np.log(cdf_up_year_pl))**(-1 / k_coeff)"
   ]
  },
  {
   "cell_type": "code",
   "execution_count": 54,
   "metadata": {},
   "outputs": [
    {
     "data": {
      "image/png": "[encoded data removed]",
      "text/plain": [
       "<Figure size 504x360 with 1 Axes>"
      ]
     },
     "metadata": {
      "needs_background": "light"
     },
     "output_type": "display_data"
    }
   ],
   "source": [
    "# Plot X = f(Tr)\n",
    "inp_label = \"Sea Levels\"\n",
    "\n",
    "plt.figure(figsize = (7, 5))\n",
    "\n",
    "plt.plot(t_r_year_pl, x_year_pl, label=f'{inp_label} (calculated)', color=\"m\", lw='2.8')\n",
    "plt.plot(t_r_year_pl, x_low_year_pl, label=f'{inp_label} lower limit', color=\"m\", ls=':')\n",
    "plt.plot(t_r_year_pl, x_up_year_pl, label=f'{inp_label} upper limit', color=\"m\", ls='-.')\n",
    "\n",
    "plt.scatter(t_r_gr, x_bin, c='black', label=f'{inp_label} (for bins)')  # a scatter plot\n",
    "\n",
    "plt.title(f'{inp_label} vs. Return period\\n(Fréchet distribution)', fontsize=14)\n",
    "plt.xlabel(\"Return period Tr, [year]\", fontsize=13)\n",
    "plt.ylabel(f'{inp_label}, [cm]', fontsize=13)\n",
    "plt.legend(loc='lower right')  # legend's location\n",
    "plt.show()"
   ]
  },
  {
   "cell_type": "markdown",
   "metadata": {},
   "source": [
    "### Validation of the results with the software “CumFreq”"
   ]
  },
  {
   "cell_type": "markdown",
   "metadata": {},
   "source": [
    "**”CumFreq”** is a freeware used as a powerful tool for *Cumulative frequency analysis* (from there is its abbreviation) – analysis of the frequency of occurrence of values of a phenomenon less than a reference value. The program calculates the cumulative (non-exceedance) frequency and does probability distribution fitting of data series. A brief description of the software is given in [Wikipedia]: https://en.wikipedia.org/wiki/CumFreq as well as on its site: https://www.predictiveanalyticstoday.com/cumfreq/ . The computer program provides the option to select the probability distribution to be fitted, such as the normal, lognormal, exponential, Gumbel, Weibull, Fréchet, Student distribution, and many others. Alternatively, it allows the determination of the *best fitting* probability distribution."
   ]
  },
  {
   "cell_type": "markdown",
   "metadata": {},
   "source": [
    "We made a comparative analysis of our results with those obtained from “CumFreq” using the Fréchet distribution (FT-II). It should be noticed that the generalised equation of the c.d.f. differs from eq.(1) by adding a free member (intercept) to the argument:\n",
    "\n",
    "$$ c.d.f. = exp\\left\\{-\\left[\\frac{x - c}{exp\\left(-b / a\\right)}\\right]^{a}\\,\\right\\}\\;\\;\\;\\;\\;(19) $$\n",
    "\n",
    "Comparing eq. (19) with (1), it is obvious that if substitutions  $ exp(–b/a) = A $, $ a =\\; –k $  are made in (19), we obtain an equation similar to (1) but with additional coefficient (intercept) **c** in the exponential numerator:\n",
    "$$ c.d.f. = exp\\left[ -\\,\\left(\\frac{x - c}{A}\\right)^{-k}\\right] \\;\\;\\;\\;\\; (20) $$\n",
    "\n",
    "The latter is the generalised form of *the Fréchet c.d.f.* (see https://en.wikipedia.org/wiki/Fr%C3%A9chet_distribution).\n"
   ]
  },
  {
   "cell_type": "markdown",
   "metadata": {},
   "source": [
    "It is to mention that not all of the outcomes from “*CumFreq*” are comparable with our results because of the different techniques used and generalised form of eq.(20). The analysed outcomes are the c.d.f. and Return period as plotted below. The “ranked” values for both variables are shown as well."
   ]
  },
  {
   "cell_type": "markdown",
   "metadata": {},
   "source": [
    "**\"CumFreq\" c.d.f.**:\n",
    "<img src=\"https://raw.githubusercontent.com/Geo2020/Sea-levels-in-Bourgas-Bay/main/data/Bourgas_Frechet_cdf.bmp\" style=\"max-height: 400px\" />"
   ]
  },
  {
   "cell_type": "markdown",
   "metadata": {},
   "source": [
    "It is visible that both c.d.f. show similar tendency but the c.d.f. values from “CumFreq” are a little lower than ours (the latter plotted in the section “Determining c.d.f. and p.d.f. of the Fréchet distribution”)."
   ]
  },
  {
   "cell_type": "markdown",
   "metadata": {},
   "source": [
    "**\"CumFreq\" Return period**:\n",
    "<img src=\"https://raw.githubusercontent.com/Geo2020/Sea-levels-in-Bourgas-Bay/main/data/Bourgas_Frechet_Tr.bmp\" style=\"max-height: 400px\" />"
   ]
  },
  {
   "cell_type": "markdown",
   "metadata": {},
   "source": [
    "Regarding the Return period, we should re-scale our plot to have the same view for comparison."
   ]
  },
  {
   "cell_type": "code",
   "execution_count": 55,
   "metadata": {},
   "outputs": [
    {
     "data": {
      "image/png": "[encoded data removed]",
      "text/plain": [
       "<Figure size 576x432 with 1 Axes>"
      ]
     },
     "metadata": {
      "needs_background": "light"
     },
     "output_type": "display_data"
    }
   ],
   "source": [
    "# Rescale the plot:\n",
    "x_pl2 = np.linspace(100, 175, 200)\n",
    "cdf_pl2 = calculate_cdf(x_pl2, a_coeff, k_coeff)\n",
    "t_r_pl2 = calculate_t_r(cdf_pl2)\n",
    "cdf_low_pl2 = calculate_cdf_limits(cdf_pl2)[0]\n",
    "cdf_up_pl2 = calculate_cdf_limits(cdf_pl2)[1]\n",
    "t_r_low_pl2 = calculate_t_r_limits(t_r_pl2, cdf_low_pl2, cdf_up_pl2)[0]\n",
    "t_r_up_pl2 = calculate_t_r_limits(t_r_pl2, cdf_low_pl2, cdf_up_pl2)[1]\n",
    "\n",
    "inp_label = \"Return period\"\n",
    "plt.figure(figsize = (8, 6))\n",
    "\n",
    "plt.plot(x_pl2, t_r_pl2, label=f'{inp_label}', color=\"b\", lw='2.8')\n",
    "plt.plot(x_pl2, t_r_low_pl2, label=f'{inp_label} lower limit', color=\"b\", ls=':')\n",
    "plt.plot(x_pl2, t_r_up_pl2, label=f'{inp_label} upper limit', color=\"b\", ls='-.')\n",
    "# Scatter plot:\n",
    "plt.scatter(x_pl, 1 / (np.array(1) - cdf_rank), c='m', lw='0', label=f'{inp_label} (observed)')\n",
    "\n",
    "plt.title(f'{inp_label} vs. Highest Sea Levels\\n(Fréchet distribution)', fontsize=14)\n",
    "plt.xlabel(\"Highest Sea Levels, [cm]\", fontsize=13)\n",
    "plt.ylabel(f'{inp_label}, [year]', fontsize=13)\n",
    "\n",
    "plt.xlim(100, 175)\n",
    "plt.ylim(0, 12)\n",
    "plt.xticks(range(100, 177, 19))\n",
    "plt.yticks(range(0, 13, 3))\n",
    "plt.legend(loc='upper left')\n",
    "plt.show()"
   ]
  },
  {
   "cell_type": "markdown",
   "metadata": {},
   "source": [
    "Analogically to the c.d.f. tendency, the Return period from “CumFreq” shows lower values than ours.\n",
    "\n",
    "The comparable variables are given in the tables below."
   ]
  },
  {
   "cell_type": "code",
   "execution_count": 56,
   "metadata": {},
   "outputs": [],
   "source": [
    "path_file = \"https://raw.githubusercontent.com/Geo2020/Sea-levels-in-Bourgas-Bay/main/data/CumFreq.csv\"\n",
    "comparison_cum_freq = pd.read_csv(path_file, sep=\";\", header=None)\n",
    "# comparison_cum_freq"
   ]
  },
  {
   "cell_type": "markdown",
   "metadata": {},
   "source": [
    "Our results are shown below:"
   ]
  },
  {
   "cell_type": "code",
   "execution_count": 57,
   "metadata": {},
   "outputs": [
    {
     "data": {
      "text/html": [
       "<div>\n",
       "<style scoped>\n",
       "    .dataframe tbody tr th:only-of-type {\n",
       "        vertical-align: middle;\n",
       "    }\n",
       "\n",
       "    .dataframe tbody tr th {\n",
       "        vertical-align: top;\n",
       "    }\n",
       "\n",
       "    .dataframe thead th {\n",
       "        text-align: right;\n",
       "    }\n",
       "</style>\n",
       "<table border=\"1\" class=\"dataframe\">\n",
       "  <thead>\n",
       "    <tr style=\"text-align: right;\">\n",
       "      <th></th>\n",
       "      <th>0</th>\n",
       "      <th>1</th>\n",
       "      <th>2</th>\n",
       "      <th>3</th>\n",
       "      <th>4</th>\n",
       "      <th>5</th>\n",
       "      <th>6</th>\n",
       "      <th>7</th>\n",
       "      <th>8</th>\n",
       "    </tr>\n",
       "  </thead>\n",
       "  <tbody>\n",
       "    <tr>\n",
       "      <th>1</th>\n",
       "      <td>Tr, [y.]:</td>\n",
       "      <td>5</td>\n",
       "      <td>10</td>\n",
       "      <td>20</td>\n",
       "      <td>25</td>\n",
       "      <td>30</td>\n",
       "      <td>50</td>\n",
       "      <td>75</td>\n",
       "      <td>100</td>\n",
       "    </tr>\n",
       "    <tr>\n",
       "      <th>2</th>\n",
       "      <td>c.d.f., [-]:</td>\n",
       "      <td>0.8</td>\n",
       "      <td>0.9</td>\n",
       "      <td>0.95</td>\n",
       "      <td>0.96</td>\n",
       "      <td>0.966667</td>\n",
       "      <td>0.98</td>\n",
       "      <td>0.986667</td>\n",
       "      <td>0.99</td>\n",
       "    </tr>\n",
       "    <tr>\n",
       "      <th>3</th>\n",
       "      <td>X:</td>\n",
       "      <td>146.9</td>\n",
       "      <td>153.6</td>\n",
       "      <td>160.4</td>\n",
       "      <td>162.7</td>\n",
       "      <td>164.5</td>\n",
       "      <td>169.7</td>\n",
       "      <td>173.9</td>\n",
       "      <td>177</td>\n",
       "    </tr>\n",
       "    <tr>\n",
       "      <th>4</th>\n",
       "      <td>X_lower</td>\n",
       "      <td>144.4</td>\n",
       "      <td>151</td>\n",
       "      <td>157.5</td>\n",
       "      <td>159.7</td>\n",
       "      <td>161.4</td>\n",
       "      <td>166.4</td>\n",
       "      <td>170.4</td>\n",
       "      <td>173.4</td>\n",
       "    </tr>\n",
       "    <tr>\n",
       "      <th>5</th>\n",
       "      <td>X_upper</td>\n",
       "      <td>150.5</td>\n",
       "      <td>157.5</td>\n",
       "      <td>164.6</td>\n",
       "      <td>166.9</td>\n",
       "      <td>168.9</td>\n",
       "      <td>174.3</td>\n",
       "      <td>178.7</td>\n",
       "      <td>181.9</td>\n",
       "    </tr>\n",
       "  </tbody>\n",
       "</table>\n",
       "</div>"
      ],
      "text/plain": [
       "              0      1      2      3      4         5      6         7      8\n",
       "1     Tr, [y.]:      5     10     20     25        30     50        75    100\n",
       "2  c.d.f., [-]:    0.8    0.9   0.95   0.96  0.966667   0.98  0.986667   0.99\n",
       "3            X:  146.9  153.6  160.4  162.7     164.5  169.7     173.9    177\n",
       "4       X_lower  144.4    151  157.5  159.7     161.4  166.4     170.4  173.4\n",
       "5       X_upper  150.5  157.5  164.6  166.9     168.9  174.3     178.7  181.9"
      ]
     },
     "execution_count": 57,
     "metadata": {},
     "output_type": "execute_result"
    }
   ],
   "source": [
    "our_results = comparison_cum_freq[1:6]\n",
    "# our_results\n",
    "our_results_edited = our_results.T.round(decimals=pd.Series([0, 5, 1, 1, 1], index=our_results.index)).T\n",
    "our_results_edited"
   ]
  },
  {
   "cell_type": "markdown",
   "metadata": {},
   "source": [
    "The outcomes of the software \"CumFreq\" are shown as well:"
   ]
  },
  {
   "cell_type": "code",
   "execution_count": 58,
   "metadata": {},
   "outputs": [
    {
     "data": {
      "text/html": [
       "<div>\n",
       "<style scoped>\n",
       "    .dataframe tbody tr th:only-of-type {\n",
       "        vertical-align: middle;\n",
       "    }\n",
       "\n",
       "    .dataframe tbody tr th {\n",
       "        vertical-align: top;\n",
       "    }\n",
       "\n",
       "    .dataframe thead th {\n",
       "        text-align: right;\n",
       "    }\n",
       "</style>\n",
       "<table border=\"1\" class=\"dataframe\">\n",
       "  <thead>\n",
       "    <tr style=\"text-align: right;\">\n",
       "      <th></th>\n",
       "      <th>0</th>\n",
       "      <th>1</th>\n",
       "      <th>2</th>\n",
       "      <th>3</th>\n",
       "      <th>4</th>\n",
       "      <th>5</th>\n",
       "      <th>6</th>\n",
       "      <th>7</th>\n",
       "      <th>8</th>\n",
       "    </tr>\n",
       "  </thead>\n",
       "  <tbody>\n",
       "    <tr>\n",
       "      <th>8</th>\n",
       "      <td>Tr, [y.]:</td>\n",
       "      <td>5</td>\n",
       "      <td>10</td>\n",
       "      <td>20</td>\n",
       "      <td>25</td>\n",
       "      <td>30</td>\n",
       "      <td>50</td>\n",
       "      <td>75</td>\n",
       "      <td>100</td>\n",
       "    </tr>\n",
       "    <tr>\n",
       "      <th>9</th>\n",
       "      <td>c.d.f., [-]:</td>\n",
       "      <td>0.8</td>\n",
       "      <td>0.9</td>\n",
       "      <td>0.95</td>\n",
       "      <td>0.96</td>\n",
       "      <td>0.966667</td>\n",
       "      <td>0.98</td>\n",
       "      <td>0.986667</td>\n",
       "      <td>0.99</td>\n",
       "    </tr>\n",
       "    <tr>\n",
       "      <th>10</th>\n",
       "      <td>CumFreq_X</td>\n",
       "      <td>153.3</td>\n",
       "      <td>161.9</td>\n",
       "      <td>170.3</td>\n",
       "      <td>172.9</td>\n",
       "      <td>175</td>\n",
       "      <td>181.1</td>\n",
       "      <td>185.8</td>\n",
       "      <td>189.2</td>\n",
       "    </tr>\n",
       "    <tr>\n",
       "      <th>11</th>\n",
       "      <td>CumFreq_X_lower</td>\n",
       "      <td>145.6</td>\n",
       "      <td>151.6</td>\n",
       "      <td>157.1</td>\n",
       "      <td>158.8</td>\n",
       "      <td>160.2</td>\n",
       "      <td>164</td>\n",
       "      <td>166.8</td>\n",
       "      <td>168.8</td>\n",
       "    </tr>\n",
       "    <tr>\n",
       "      <th>12</th>\n",
       "      <td>CumFreq_X_upper</td>\n",
       "      <td>155.9</td>\n",
       "      <td>163.8</td>\n",
       "      <td>171.5</td>\n",
       "      <td>174</td>\n",
       "      <td>176.1</td>\n",
       "      <td>181.9</td>\n",
       "      <td>186.4</td>\n",
       "      <td>189.7</td>\n",
       "    </tr>\n",
       "  </tbody>\n",
       "</table>\n",
       "</div>"
      ],
      "text/plain": [
       "                  0      1      2      3      4         5      6         7  \\\n",
       "8         Tr, [y.]:      5     10     20     25        30     50        75   \n",
       "9      c.d.f., [-]:    0.8    0.9   0.95   0.96  0.966667   0.98  0.986667   \n",
       "10        CumFreq_X  153.3  161.9  170.3  172.9       175  181.1     185.8   \n",
       "11  CumFreq_X_lower  145.6  151.6  157.1  158.8     160.2    164     166.8   \n",
       "12  CumFreq_X_upper  155.9  163.8  171.5    174     176.1  181.9     186.4   \n",
       "\n",
       "        8  \n",
       "8     100  \n",
       "9    0.99  \n",
       "10  189.2  \n",
       "11  168.8  \n",
       "12  189.7  "
      ]
     },
     "execution_count": 58,
     "metadata": {},
     "output_type": "execute_result"
    }
   ],
   "source": [
    "cum_freq_results = comparison_cum_freq[8:13]\n",
    "# cum_freq_results\n",
    "cum_freq_results_edited = cum_freq_results.T.round(decimals=pd.Series([0, 5, 1, 1, 1], index=cum_freq_results.index)).T\n",
    "cum_freq_results_edited"
   ]
  },
  {
   "cell_type": "markdown",
   "metadata": {},
   "source": [
    "Comparing the results of the above tables, it is seen that our Highest Sea levels as a function of the Return period are a little lower than those from “*CumFreq*”."
   ]
  },
  {
   "cell_type": "markdown",
   "metadata": {},
   "source": [
    "###### In general, the comparison of our results with the outcomes obtained from “*CumFreq*” shows a good correspondence."
   ]
  },
  {
   "cell_type": "markdown",
   "metadata": {},
   "source": [
    "### Comparison with the outcomes of IO-BAS"
   ]
  },
  {
   "cell_type": "markdown",
   "metadata": {},
   "source": [
    "Additionally, we compared our outcomes with those calculated by the Institute of Oceanology (IO-BAS) and published in [2]. It is found in their investigation that the annual Highest Sea-level changes are not stationary because of the perennial variability of climatic processes, disturbances of water balance, coast subsidence, etc. To avoid this non-stationarity, they consider *the elevations of the sea levels above the average annual values* instead of their highest (extreme) levels [4].\n",
    "\n",
    "We re-applied our technique with the new variables (the elevations of the sea levels instead of their maximum values) and compared the obtained results (the Highest sea-level elevations as a function of the Return period) with those of IO-BAS. The details of these calculations are not shown here; only the final results are present below. The outcomes of IO-BAS are given as “IO-BAS_1” and “IO-BAS_2” that stands for two sequences of data considered: with the initial input data (as ours, given at the beginning), and with correction of the above data after an extreme storm data (happened in February 1979). The results are present in the next table:"
   ]
  },
  {
   "cell_type": "code",
   "execution_count": 59,
   "metadata": {},
   "outputs": [
    {
     "data": {
      "text/html": [
       "<div>\n",
       "<style scoped>\n",
       "    .dataframe tbody tr th:only-of-type {\n",
       "        vertical-align: middle;\n",
       "    }\n",
       "\n",
       "    .dataframe tbody tr th {\n",
       "        vertical-align: top;\n",
       "    }\n",
       "\n",
       "    .dataframe thead th {\n",
       "        text-align: right;\n",
       "    }\n",
       "</style>\n",
       "<table border=\"1\" class=\"dataframe\">\n",
       "  <thead>\n",
       "    <tr style=\"text-align: right;\">\n",
       "      <th></th>\n",
       "      <th>0</th>\n",
       "      <th>1</th>\n",
       "      <th>2</th>\n",
       "      <th>3</th>\n",
       "      <th>4</th>\n",
       "      <th>5</th>\n",
       "      <th>6</th>\n",
       "      <th>7</th>\n",
       "    </tr>\n",
       "  </thead>\n",
       "  <tbody>\n",
       "    <tr>\n",
       "      <th>Tr, [year]</th>\n",
       "      <td>1</td>\n",
       "      <td>5</td>\n",
       "      <td>10</td>\n",
       "      <td>25</td>\n",
       "      <td>50</td>\n",
       "      <td>100</td>\n",
       "      <td>200</td>\n",
       "      <td>250</td>\n",
       "    </tr>\n",
       "    <tr>\n",
       "      <th>our results</th>\n",
       "      <td>28.8</td>\n",
       "      <td>49.9</td>\n",
       "      <td>56.3</td>\n",
       "      <td>65.6</td>\n",
       "      <td>73.4</td>\n",
       "      <td>82.1</td>\n",
       "      <td>91.8</td>\n",
       "      <td>-</td>\n",
       "    </tr>\n",
       "    <tr>\n",
       "      <th>IO-BAS_1</th>\n",
       "      <td>27.6</td>\n",
       "      <td>49.2</td>\n",
       "      <td>54.6</td>\n",
       "      <td>61.4</td>\n",
       "      <td>66.4</td>\n",
       "      <td>71.3</td>\n",
       "      <td>76.3</td>\n",
       "      <td>77.9</td>\n",
       "    </tr>\n",
       "    <tr>\n",
       "      <th>IO-BAS_2</th>\n",
       "      <td>28.5</td>\n",
       "      <td>51.1</td>\n",
       "      <td>58.9</td>\n",
       "      <td>70.7</td>\n",
       "      <td>80.9</td>\n",
       "      <td>92.5</td>\n",
       "      <td>106.8</td>\n",
       "      <td>110.4</td>\n",
       "    </tr>\n",
       "  </tbody>\n",
       "</table>\n",
       "</div>"
      ],
      "text/plain": [
       "                0     1     2     3     4     5      6      7\n",
       "Tr, [year]      1     5    10    25    50   100    200    250\n",
       "our results  28.8  49.9  56.3  65.6  73.4  82.1   91.8      -\n",
       "IO-BAS_1     27.6  49.2  54.6  61.4  66.4  71.3   76.3   77.9\n",
       "IO-BAS_2     28.5  51.1  58.9  70.7  80.9  92.5  106.8  110.4"
      ]
     },
     "execution_count": 59,
     "metadata": {},
     "output_type": "execute_result"
    }
   ],
   "source": [
    "comparison_io = pd.DataFrame()\n",
    "t_r_io = np.array([1, 5, 10, 25, 50, 100, 200, 250])\n",
    "comparison_io[\"Tr, [year]\"] = t_r_io\n",
    "x_our_results = np.array([28.8, 49.9, 56.3, 65.6, 73.4, 82.1, 91.8, \"-\"])\n",
    "comparison_io[\"our results\"] = x_our_results\n",
    "x_io_1 = np.array([27.6, 49.2, 54.6, 61.4, 66.4, 71.3, 76.3, 77.9])\n",
    "comparison_io[\"IO-BAS_1\"] = x_io_1\n",
    "x_io_2 = np.array([28.5, 51.1, 58.9, 70.7, 80.9, 92.5, 106.8, 110.4])\n",
    "comparison_io[\"IO-BAS_2\"] = x_io_2\n",
    "comparison_io.T"
   ]
  },
  {
   "cell_type": "markdown",
   "metadata": {},
   "source": [
    "The above results are visualised on the next plot."
   ]
  },
  {
   "cell_type": "code",
   "execution_count": 60,
   "metadata": {},
   "outputs": [
    {
     "data": {
      "image/png": "[encoded data removed]",
      "text/plain": [
       "<Figure size 504x360 with 1 Axes>"
      ]
     },
     "metadata": {
      "needs_background": "light"
     },
     "output_type": "display_data"
    }
   ],
   "source": [
    "# Plotting parameters (for X = f(Tr)):\n",
    "t_r_pl3 = np.linspace(1.05, 200, 200)\n",
    "cdf_year_pl3 = 1 - 1 / t_r_pl3\n",
    "\n",
    "# Coefficients calculated for Sea-level Elevations:\n",
    "a3 = 39.23\n",
    "k3 = 6.226\n",
    "x_year_our = a3 * (-np.log(cdf_year_pl))**(-1 / k3)\n",
    "\n",
    "# Plot X = f(Tr)\n",
    "inp_label = \"Sea-level Elevations\"\n",
    "\n",
    "plt.figure(figsize = (7, 5))\n",
    "\n",
    "plt.plot(t_r_pl3, x_year_our, label=f'{inp_label} (calculated)', color=\"b\", lw='2.8')\n",
    "\n",
    "plt.scatter(t_r_io, x_io_1, c='green', label=f'{inp_label} (IO-BAS_1)')  # scatter plot 'IO-BAS_1'\n",
    "plt.scatter(t_r_io, x_io_2, c='red', label=f'{inp_label} (IO-BAS_2)')  # scatter plot 'IO-BAS_1'\n",
    "\n",
    "plt.title(f'{inp_label} vs. Return period\\n(comparison with IO-BAS)', fontsize=14)\n",
    "plt.xlabel(\"Return period Tr, [year]\", fontsize=13)\n",
    "plt.ylabel(f'{inp_label}, [cm]', fontsize=13)\n",
    "plt.legend(loc='lower right')  # legend's location\n",
    "plt.show()"
   ]
  },
  {
   "cell_type": "markdown",
   "metadata": {},
   "source": [
    "###### *The comparison of the numbers in the last table shows that our Highest sea-level elevations are between those of IO-BAS obtained from the initial data set and the corrected one with extreme event data (catastrophic storm), which is quite acceptable.*"
   ]
  },
  {
   "cell_type": "markdown",
   "metadata": {},
   "source": [
    "### Conclusion"
   ]
  },
  {
   "cell_type": "markdown",
   "metadata": {},
   "source": [
    "In the present study, the annual maximum sea-level variations in Bourgas Bay are investigated. The **Fréchet distribution (Fisher-Tippett Type II)** is proposed for the mathematical description of the hydrographic phenomenon. Prediction of the *Return period* of the *Highest Sea levels* is derived as well as the inverse dependence.\n",
    "\n",
    "For validation of the applied Fréchet simulation, comparisons with a similar technique (of the software “CumFreq”), and investigations (by IO-BAS) are performed; both comparisons show *good correspondences between our results and the related ones*.\n",
    "\n",
    "Our proposed approach can also be applied for simulation of the Lowest sea-level fluctuations as well as for other extreme events: combinations of the highest/lowest water levels with waves, tides, or a *storm surge* (a rise of the sea level due to the action of wind stress on the water surface).\n",
    "\n",
    "The developed methodology can be used in the engineering design of hydrotechnical structures and prevention against inundations and sea erosion at the coastal zones."
   ]
  },
  {
   "cell_type": "markdown",
   "metadata": {},
   "source": [
    "#### Future work"
   ]
  },
  {
   "cell_type": "markdown",
   "metadata": {},
   "source": [
    "In the future, this work could be continued applying some other probability distributions recommended for prognostic of the extreme hydrographic / meteorological events: \n",
    "*Weibull* (https://en.wikipedia.org/wiki/Weibull_distribution), *Gumbel* (https://en.wikipedia.org/wiki/Gumbel_distribution), or/and *Log-Pеаrson (Type III)* distribution (https://en.wikipedia.org/wiki/Pearson_distribution ). \n",
    "\n",
    "Then, a comparative analysis of all studied distribution methods should be done in order to determine the best fitting to the input data."
   ]
  },
  {
   "cell_type": "markdown",
   "metadata": {},
   "source": [
    "### References"
   ]
  },
  {
   "cell_type": "markdown",
   "metadata": {},
   "source": [
    "1. Архив на Институт по океанология, БАН, Варна, Банка данни за морските нива по Българското крайбрежие\n",
    "\n",
    "2. Kostichkova, D., Belberov, Z., Trifonova, E., Grudeva, D. Sea Level Surface Variations in Bourgas Bay. Proceedings of the Institute of Oceanology, BAS, Vol.3: Marine Physics. Varna, 2001 (Костичкова Д., Белберов З., Трифонова Е., Грудева Д. Максимални морски нива в Бургаския залив, Трудове на Института по океанология, БАН, Том 3: Физика на морето. Варна, 2001).\n",
    "\n",
    "3. Thompson, E. F. Hydrodynamic Analysis and Design Conditions. Coastal Engineering Manual, EM 1110-2-1100, U.S. Army Corps of Engineers, Washington, DC. Pt.II Coastal Hydrodynamics, Ch.II-8, 2002, 62 p.\n",
    "\n",
    "4. Костичкова, Д., Чернева, Ж. Оценка на някои хидрологични елементи на Варненското езеро. Рационално използване и възстановяване на природните ресурси на Варненския регион. Варна, 1991, 168-174 p.\n",
    "\n",
    "5. Oosterbaan, R.J. On cumulative frequency/probability distributions and confidence intervals.  Summary of “International Commission on Irrigation and Drainage, Special Technical Session: Economic Sspects of Flood Control and non Structural Measures, Dubrovnik, Yougoslavia, 1988”: www.waterlog.info/pdf/binomial.pdf \n",
    "\n",
    "6. Oosterbaan, R.J. Frequency and Regression Analysis of Hydrologic Data, Chapter 6 in: H.P.Ritzema (Ed.), Drainage Principles and Applications, Publication 16, second revised edition, 1994, International Institute for Land Reclamation and Improvement (ILRI), Wageningen, The Netherlands. ISBN 90 70754 3 39 (https://www.waterlog.info/pdf/freqtxt.pdf)\n",
    "\n",
    "7. Personal communication with Prof. Oosterbaan, R.J. (Netherlands), July – Aug., 2015.\n"
   ]
  }
 ],
 "metadata": {
  "kernelspec": {
   "display_name": "Python 3",
   "language": "python",
   "name": "python3"
  },
  "language_info": {
   "codemirror_mode": {
    "name": "ipython",
    "version": 3
   },
   "file_extension": ".py",
   "mimetype": "text/x-python",
   "name": "python",
   "nbconvert_exporter": "python",
   "pygments_lexer": "ipython3",
   "version": "3.8.3"
  }
 },
 "nbformat": 4,
 "nbformat_minor": 4
}
